{
  "cells": [
    {
      "cell_type": "code",
      "execution_count": 2,
      "metadata": {
        "id": "AzvAhcD8tYEB"
      },
      "outputs": [],
      "source": [
        "# 필요한 라이브러리 설치 및 임포트\n",
        "import pandas as pd\n",
        "import numpy as np\n",
        "from sklearn.model_selection import train_test_split, cross_val_score\n",
        "from sklearn.ensemble import RandomForestClassifier\n",
        "from sklearn.metrics import classification_report, confusion_matrix, accuracy_score\n",
        "import matplotlib.pyplot as plt\n",
        "import seaborn as sns"
      ]
    },
    {
      "cell_type": "code",
      "execution_count": 3,
      "metadata": {
        "id": "9cOX-BKCl3AF"
      },
      "outputs": [],
      "source": [
        "#데이터 로드\n",
        "df_benign =  './preprocessed_data/pypi/pypi_ast_analysis_benign.csv' # benign\n",
        "df_mal = './preprocessed_data/pypi/pypi_ast_analysis_malicious.csv' #malicious"
      ]
    },
    {
      "cell_type": "code",
      "execution_count": 4,
      "metadata": {
        "id": "VEWtfmyRwWnc"
      },
      "outputs": [],
      "source": [
        "df_benign = pd.read_csv(df_benign)"
      ]
    },
    {
      "cell_type": "code",
      "execution_count": 5,
      "metadata": {
        "id": "VpIT_Q-nwZIt"
      },
      "outputs": [],
      "source": [
        "df_mal = pd.read_csv(df_mal)"
      ]
    },
    {
      "cell_type": "code",
      "execution_count": 6,
      "metadata": {
        "colab": {
          "base_uri": "https://localhost:8080/",
          "height": 256
        },
        "id": "5udMgF7kjIfd",
        "outputId": "e9469880-76aa-48c3-b043-9a6446982a7b"
      },
      "outputs": [
        {
          "data": {
            "text/html": [
              "<div>\n",
              "<style scoped>\n",
              "    .dataframe tbody tr th:only-of-type {\n",
              "        vertical-align: middle;\n",
              "    }\n",
              "\n",
              "    .dataframe tbody tr th {\n",
              "        vertical-align: top;\n",
              "    }\n",
              "\n",
              "    .dataframe thead th {\n",
              "        text-align: right;\n",
              "    }\n",
              "</style>\n",
              "<table border=\"1\" class=\"dataframe\">\n",
              "  <thead>\n",
              "    <tr style=\"text-align: right;\">\n",
              "      <th></th>\n",
              "      <th>file name</th>\n",
              "      <th>entropy</th>\n",
              "      <th>url</th>\n",
              "      <th>function_count</th>\n",
              "      <th>average_cc</th>\n",
              "      <th>class_count</th>\n",
              "      <th>BaseHTTPServer.HTTPServer</th>\n",
              "      <th>DocXMLRPCServer.DocXMLRPCServer</th>\n",
              "      <th>FTP.retrbinary</th>\n",
              "      <th>FTP.retrlines</th>\n",
              "      <th>...</th>\n",
              "      <th>xmlrpc.client.DateTime.encode</th>\n",
              "      <th>xmlrpc.client.ServerProxy</th>\n",
              "      <th>xmlrpc.server.DocXMLRPCServer</th>\n",
              "      <th>xmlrpc.server.SimpleXMLRPCServer</th>\n",
              "      <th>xmlrpclib.ServerProxy</th>\n",
              "      <th>zipapp</th>\n",
              "      <th>zipfile</th>\n",
              "      <th>zipfile.ZipFile</th>\n",
              "      <th>zipimport.zipimporter</th>\n",
              "      <th>zlib</th>\n",
              "    </tr>\n",
              "  </thead>\n",
              "  <tbody>\n",
              "    <tr>\n",
              "      <th>0</th>\n",
              "      <td>./data/pypi/benign/setup_helper.py</td>\n",
              "      <td>0.748544</td>\n",
              "      <td>NaN</td>\n",
              "      <td>0</td>\n",
              "      <td>0</td>\n",
              "      <td>0</td>\n",
              "      <td>0</td>\n",
              "      <td>0</td>\n",
              "      <td>0</td>\n",
              "      <td>0</td>\n",
              "      <td>...</td>\n",
              "      <td>0</td>\n",
              "      <td>0</td>\n",
              "      <td>0</td>\n",
              "      <td>0</td>\n",
              "      <td>0</td>\n",
              "      <td>0</td>\n",
              "      <td>0</td>\n",
              "      <td>0</td>\n",
              "      <td>0</td>\n",
              "      <td>0</td>\n",
              "    </tr>\n",
              "    <tr>\n",
              "      <th>1</th>\n",
              "      <td>./data/pypi/benign/dev.py</td>\n",
              "      <td>0.722306</td>\n",
              "      <td>NaN</td>\n",
              "      <td>0</td>\n",
              "      <td>0</td>\n",
              "      <td>0</td>\n",
              "      <td>0</td>\n",
              "      <td>0</td>\n",
              "      <td>0</td>\n",
              "      <td>0</td>\n",
              "      <td>...</td>\n",
              "      <td>0</td>\n",
              "      <td>0</td>\n",
              "      <td>0</td>\n",
              "      <td>0</td>\n",
              "      <td>0</td>\n",
              "      <td>0</td>\n",
              "      <td>0</td>\n",
              "      <td>0</td>\n",
              "      <td>0</td>\n",
              "      <td>0</td>\n",
              "    </tr>\n",
              "    <tr>\n",
              "      <th>2</th>\n",
              "      <td>./data/pypi/benign/gensetup.py</td>\n",
              "      <td>0.848151</td>\n",
              "      <td>NaN</td>\n",
              "      <td>0</td>\n",
              "      <td>0</td>\n",
              "      <td>0</td>\n",
              "      <td>0</td>\n",
              "      <td>0</td>\n",
              "      <td>0</td>\n",
              "      <td>0</td>\n",
              "      <td>...</td>\n",
              "      <td>0</td>\n",
              "      <td>0</td>\n",
              "      <td>0</td>\n",
              "      <td>0</td>\n",
              "      <td>0</td>\n",
              "      <td>0</td>\n",
              "      <td>0</td>\n",
              "      <td>0</td>\n",
              "      <td>0</td>\n",
              "      <td>0</td>\n",
              "    </tr>\n",
              "    <tr>\n",
              "      <th>3</th>\n",
              "      <td>./data/pypi/benign/setup.py</td>\n",
              "      <td>0.858386</td>\n",
              "      <td>NaN</td>\n",
              "      <td>0</td>\n",
              "      <td>0</td>\n",
              "      <td>0</td>\n",
              "      <td>0</td>\n",
              "      <td>0</td>\n",
              "      <td>0</td>\n",
              "      <td>0</td>\n",
              "      <td>...</td>\n",
              "      <td>0</td>\n",
              "      <td>0</td>\n",
              "      <td>0</td>\n",
              "      <td>0</td>\n",
              "      <td>0</td>\n",
              "      <td>0</td>\n",
              "      <td>0</td>\n",
              "      <td>0</td>\n",
              "      <td>0</td>\n",
              "      <td>0</td>\n",
              "    </tr>\n",
              "    <tr>\n",
              "      <th>4</th>\n",
              "      <td>./data/pypi/benign/conftest.py</td>\n",
              "      <td>0.943474</td>\n",
              "      <td>NaN</td>\n",
              "      <td>0</td>\n",
              "      <td>0</td>\n",
              "      <td>0</td>\n",
              "      <td>0</td>\n",
              "      <td>0</td>\n",
              "      <td>0</td>\n",
              "      <td>0</td>\n",
              "      <td>...</td>\n",
              "      <td>0</td>\n",
              "      <td>0</td>\n",
              "      <td>0</td>\n",
              "      <td>0</td>\n",
              "      <td>0</td>\n",
              "      <td>0</td>\n",
              "      <td>0</td>\n",
              "      <td>0</td>\n",
              "      <td>0</td>\n",
              "      <td>0</td>\n",
              "    </tr>\n",
              "  </tbody>\n",
              "</table>\n",
              "<p>5 rows × 532 columns</p>\n",
              "</div>"
            ],
            "text/plain": [
              "                            file name   entropy  url  function_count  \\\n",
              "0  ./data/pypi/benign/setup_helper.py  0.748544  NaN               0   \n",
              "1           ./data/pypi/benign/dev.py  0.722306  NaN               0   \n",
              "2      ./data/pypi/benign/gensetup.py  0.848151  NaN               0   \n",
              "3         ./data/pypi/benign/setup.py  0.858386  NaN               0   \n",
              "4      ./data/pypi/benign/conftest.py  0.943474  NaN               0   \n",
              "\n",
              "   average_cc  class_count  BaseHTTPServer.HTTPServer  \\\n",
              "0           0            0                          0   \n",
              "1           0            0                          0   \n",
              "2           0            0                          0   \n",
              "3           0            0                          0   \n",
              "4           0            0                          0   \n",
              "\n",
              "   DocXMLRPCServer.DocXMLRPCServer  FTP.retrbinary  FTP.retrlines  ...  \\\n",
              "0                                0               0              0  ...   \n",
              "1                                0               0              0  ...   \n",
              "2                                0               0              0  ...   \n",
              "3                                0               0              0  ...   \n",
              "4                                0               0              0  ...   \n",
              "\n",
              "   xmlrpc.client.DateTime.encode  xmlrpc.client.ServerProxy  \\\n",
              "0                              0                          0   \n",
              "1                              0                          0   \n",
              "2                              0                          0   \n",
              "3                              0                          0   \n",
              "4                              0                          0   \n",
              "\n",
              "   xmlrpc.server.DocXMLRPCServer  xmlrpc.server.SimpleXMLRPCServer  \\\n",
              "0                              0                                 0   \n",
              "1                              0                                 0   \n",
              "2                              0                                 0   \n",
              "3                              0                                 0   \n",
              "4                              0                                 0   \n",
              "\n",
              "   xmlrpclib.ServerProxy  zipapp  zipfile  zipfile.ZipFile  \\\n",
              "0                      0       0        0                0   \n",
              "1                      0       0        0                0   \n",
              "2                      0       0        0                0   \n",
              "3                      0       0        0                0   \n",
              "4                      0       0        0                0   \n",
              "\n",
              "   zipimport.zipimporter  zlib  \n",
              "0                      0     0  \n",
              "1                      0     0  \n",
              "2                      0     0  \n",
              "3                      0     0  \n",
              "4                      0     0  \n",
              "\n",
              "[5 rows x 532 columns]"
            ]
          },
          "execution_count": 6,
          "metadata": {},
          "output_type": "execute_result"
        }
      ],
      "source": [
        "df_benign.head()"
      ]
    },
    {
      "cell_type": "code",
      "execution_count": 7,
      "metadata": {
        "colab": {
          "base_uri": "https://localhost:8080/"
        },
        "id": "l0eZfIwejKTJ",
        "outputId": "2c83be37-df5e-499c-8845-cb63e833783f"
      },
      "outputs": [
        {
          "data": {
            "text/plain": [
              "(39132, 532)"
            ]
          },
          "execution_count": 7,
          "metadata": {},
          "output_type": "execute_result"
        }
      ],
      "source": [
        "df_benign.shape"
      ]
    },
    {
      "cell_type": "code",
      "execution_count": 8,
      "metadata": {
        "colab": {
          "base_uri": "https://localhost:8080/",
          "height": 342
        },
        "id": "AWZ3eKw3jMlB",
        "outputId": "a2143456-a9d7-4404-b083-5274aa2a3c73"
      },
      "outputs": [
        {
          "data": {
            "text/html": [
              "<div>\n",
              "<style scoped>\n",
              "    .dataframe tbody tr th:only-of-type {\n",
              "        vertical-align: middle;\n",
              "    }\n",
              "\n",
              "    .dataframe tbody tr th {\n",
              "        vertical-align: top;\n",
              "    }\n",
              "\n",
              "    .dataframe thead th {\n",
              "        text-align: right;\n",
              "    }\n",
              "</style>\n",
              "<table border=\"1\" class=\"dataframe\">\n",
              "  <thead>\n",
              "    <tr style=\"text-align: right;\">\n",
              "      <th></th>\n",
              "      <th>file name</th>\n",
              "      <th>entropy</th>\n",
              "      <th>url</th>\n",
              "      <th>function_count</th>\n",
              "      <th>average_cc</th>\n",
              "      <th>class_count</th>\n",
              "      <th>BaseHTTPServer.HTTPServer</th>\n",
              "      <th>DocXMLRPCServer.DocXMLRPCServer</th>\n",
              "      <th>FTP.retrbinary</th>\n",
              "      <th>FTP.retrlines</th>\n",
              "      <th>...</th>\n",
              "      <th>xmlrpc.client.DateTime.encode</th>\n",
              "      <th>xmlrpc.client.ServerProxy</th>\n",
              "      <th>xmlrpc.server.DocXMLRPCServer</th>\n",
              "      <th>xmlrpc.server.SimpleXMLRPCServer</th>\n",
              "      <th>xmlrpclib.ServerProxy</th>\n",
              "      <th>zipapp</th>\n",
              "      <th>zipfile</th>\n",
              "      <th>zipfile.ZipFile</th>\n",
              "      <th>zipimport.zipimporter</th>\n",
              "      <th>zlib</th>\n",
              "    </tr>\n",
              "  </thead>\n",
              "  <tbody>\n",
              "    <tr>\n",
              "      <th>0</th>\n",
              "      <td>./data/pypi/malicious/malicious-package-exampl...</td>\n",
              "      <td>0.820153</td>\n",
              "      <td>NaN</td>\n",
              "      <td>0</td>\n",
              "      <td>0</td>\n",
              "      <td>0</td>\n",
              "      <td>0</td>\n",
              "      <td>0</td>\n",
              "      <td>0</td>\n",
              "      <td>0</td>\n",
              "      <td>...</td>\n",
              "      <td>0</td>\n",
              "      <td>0</td>\n",
              "      <td>0</td>\n",
              "      <td>0</td>\n",
              "      <td>0</td>\n",
              "      <td>0</td>\n",
              "      <td>0</td>\n",
              "      <td>0</td>\n",
              "      <td>0</td>\n",
              "      <td>0</td>\n",
              "    </tr>\n",
              "    <tr>\n",
              "      <th>1</th>\n",
              "      <td>./data/pypi/malicious/pypi_malregistry-main/sc...</td>\n",
              "      <td>0.586384</td>\n",
              "      <td>NaN</td>\n",
              "      <td>0</td>\n",
              "      <td>0</td>\n",
              "      <td>0</td>\n",
              "      <td>0</td>\n",
              "      <td>0</td>\n",
              "      <td>0</td>\n",
              "      <td>0</td>\n",
              "      <td>...</td>\n",
              "      <td>0</td>\n",
              "      <td>0</td>\n",
              "      <td>0</td>\n",
              "      <td>0</td>\n",
              "      <td>0</td>\n",
              "      <td>0</td>\n",
              "      <td>0</td>\n",
              "      <td>0</td>\n",
              "      <td>0</td>\n",
              "      <td>0</td>\n",
              "    </tr>\n",
              "    <tr>\n",
              "      <th>2</th>\n",
              "      <td>./data/pypi/malicious/pypi_malregistry-main/sc...</td>\n",
              "      <td>0.000000</td>\n",
              "      <td>NaN</td>\n",
              "      <td>0</td>\n",
              "      <td>0</td>\n",
              "      <td>0</td>\n",
              "      <td>0</td>\n",
              "      <td>0</td>\n",
              "      <td>0</td>\n",
              "      <td>0</td>\n",
              "      <td>...</td>\n",
              "      <td>0</td>\n",
              "      <td>0</td>\n",
              "      <td>0</td>\n",
              "      <td>0</td>\n",
              "      <td>0</td>\n",
              "      <td>0</td>\n",
              "      <td>0</td>\n",
              "      <td>0</td>\n",
              "      <td>0</td>\n",
              "      <td>0</td>\n",
              "    </tr>\n",
              "    <tr>\n",
              "      <th>3</th>\n",
              "      <td>./data/pypi/malicious/pypi_malregistry-main/op...</td>\n",
              "      <td>0.586508</td>\n",
              "      <td>NaN</td>\n",
              "      <td>0</td>\n",
              "      <td>0</td>\n",
              "      <td>0</td>\n",
              "      <td>0</td>\n",
              "      <td>0</td>\n",
              "      <td>0</td>\n",
              "      <td>0</td>\n",
              "      <td>...</td>\n",
              "      <td>0</td>\n",
              "      <td>0</td>\n",
              "      <td>0</td>\n",
              "      <td>0</td>\n",
              "      <td>0</td>\n",
              "      <td>0</td>\n",
              "      <td>0</td>\n",
              "      <td>0</td>\n",
              "      <td>0</td>\n",
              "      <td>0</td>\n",
              "    </tr>\n",
              "    <tr>\n",
              "      <th>4</th>\n",
              "      <td>./data/pypi/malicious/pypi_malregistry-main/op...</td>\n",
              "      <td>0.000000</td>\n",
              "      <td>NaN</td>\n",
              "      <td>0</td>\n",
              "      <td>0</td>\n",
              "      <td>0</td>\n",
              "      <td>0</td>\n",
              "      <td>0</td>\n",
              "      <td>0</td>\n",
              "      <td>0</td>\n",
              "      <td>...</td>\n",
              "      <td>0</td>\n",
              "      <td>0</td>\n",
              "      <td>0</td>\n",
              "      <td>0</td>\n",
              "      <td>0</td>\n",
              "      <td>0</td>\n",
              "      <td>0</td>\n",
              "      <td>0</td>\n",
              "      <td>0</td>\n",
              "      <td>0</td>\n",
              "    </tr>\n",
              "  </tbody>\n",
              "</table>\n",
              "<p>5 rows × 532 columns</p>\n",
              "</div>"
            ],
            "text/plain": [
              "                                           file name   entropy  url  \\\n",
              "0  ./data/pypi/malicious/malicious-package-exampl...  0.820153  NaN   \n",
              "1  ./data/pypi/malicious/pypi_malregistry-main/sc...  0.586384  NaN   \n",
              "2  ./data/pypi/malicious/pypi_malregistry-main/sc...  0.000000  NaN   \n",
              "3  ./data/pypi/malicious/pypi_malregistry-main/op...  0.586508  NaN   \n",
              "4  ./data/pypi/malicious/pypi_malregistry-main/op...  0.000000  NaN   \n",
              "\n",
              "   function_count  average_cc  class_count  BaseHTTPServer.HTTPServer  \\\n",
              "0               0           0            0                          0   \n",
              "1               0           0            0                          0   \n",
              "2               0           0            0                          0   \n",
              "3               0           0            0                          0   \n",
              "4               0           0            0                          0   \n",
              "\n",
              "   DocXMLRPCServer.DocXMLRPCServer  FTP.retrbinary  FTP.retrlines  ...  \\\n",
              "0                                0               0              0  ...   \n",
              "1                                0               0              0  ...   \n",
              "2                                0               0              0  ...   \n",
              "3                                0               0              0  ...   \n",
              "4                                0               0              0  ...   \n",
              "\n",
              "   xmlrpc.client.DateTime.encode  xmlrpc.client.ServerProxy  \\\n",
              "0                              0                          0   \n",
              "1                              0                          0   \n",
              "2                              0                          0   \n",
              "3                              0                          0   \n",
              "4                              0                          0   \n",
              "\n",
              "   xmlrpc.server.DocXMLRPCServer  xmlrpc.server.SimpleXMLRPCServer  \\\n",
              "0                              0                                 0   \n",
              "1                              0                                 0   \n",
              "2                              0                                 0   \n",
              "3                              0                                 0   \n",
              "4                              0                                 0   \n",
              "\n",
              "   xmlrpclib.ServerProxy  zipapp  zipfile  zipfile.ZipFile  \\\n",
              "0                      0       0        0                0   \n",
              "1                      0       0        0                0   \n",
              "2                      0       0        0                0   \n",
              "3                      0       0        0                0   \n",
              "4                      0       0        0                0   \n",
              "\n",
              "   zipimport.zipimporter  zlib  \n",
              "0                      0     0  \n",
              "1                      0     0  \n",
              "2                      0     0  \n",
              "3                      0     0  \n",
              "4                      0     0  \n",
              "\n",
              "[5 rows x 532 columns]"
            ]
          },
          "execution_count": 8,
          "metadata": {},
          "output_type": "execute_result"
        }
      ],
      "source": [
        "df_mal.head()"
      ]
    },
    {
      "cell_type": "code",
      "execution_count": 9,
      "metadata": {
        "colab": {
          "base_uri": "https://localhost:8080/"
        },
        "id": "RRcWV27BjPK7",
        "outputId": "afd76847-da94-4451-b009-a0150ff800de"
      },
      "outputs": [
        {
          "data": {
            "text/plain": [
              "(23743, 532)"
            ]
          },
          "execution_count": 9,
          "metadata": {},
          "output_type": "execute_result"
        }
      ],
      "source": [
        "df_mal.shape"
      ]
    },
    {
      "cell_type": "code",
      "execution_count": 10,
      "metadata": {
        "id": "k3p40YiHQG7g"
      },
      "outputs": [],
      "source": [
        "df_benign['label'] = 0\n",
        "df_mal['label'] = 1"
      ]
    },
    {
      "cell_type": "code",
      "execution_count": 11,
      "metadata": {
        "colab": {
          "base_uri": "https://localhost:8080/"
        },
        "id": "-65K-vF_j6Kt",
        "outputId": "75b83be0-39be-4eb5-ba49-8490fcc7e30f"
      },
      "outputs": [
        {
          "data": {
            "text/plain": [
              "(62875, 533)"
            ]
          },
          "execution_count": 11,
          "metadata": {},
          "output_type": "execute_result"
        }
      ],
      "source": [
        "df = pd.concat([df_benign, df_mal], ignore_index=True)\n",
        "df.shape"
      ]
    },
    {
      "cell_type": "code",
      "execution_count": 12,
      "metadata": {
        "colab": {
          "base_uri": "https://localhost:8080/"
        },
        "id": "GWqajIi1kCjb",
        "outputId": "7527d782-4065-4e2f-c0f4-cf7bcd5ea3cb"
      },
      "outputs": [
        {
          "data": {
            "text/plain": [
              "label\n",
              "0    39132\n",
              "Name: count, dtype: int64"
            ]
          },
          "execution_count": 12,
          "metadata": {},
          "output_type": "execute_result"
        }
      ],
      "source": [
        "df_benign['label'].value_counts()"
      ]
    },
    {
      "cell_type": "code",
      "execution_count": 13,
      "metadata": {
        "colab": {
          "base_uri": "https://localhost:8080/"
        },
        "id": "Mu3bNrBdQTyE",
        "outputId": "1d7921a8-a791-495a-a95d-e6bf1306d2b2"
      },
      "outputs": [
        {
          "data": {
            "text/plain": [
              "label\n",
              "1    23743\n",
              "Name: count, dtype: int64"
            ]
          },
          "execution_count": 13,
          "metadata": {},
          "output_type": "execute_result"
        }
      ],
      "source": [
        "df_mal['label'].value_counts()"
      ]
    },
    {
      "cell_type": "code",
      "execution_count": 14,
      "metadata": {
        "colab": {
          "base_uri": "https://localhost:8080/",
          "height": 256
        },
        "id": "4Uog-hbmQa75",
        "outputId": "d2ce2e6f-3505-4b47-e729-5cd603de683e"
      },
      "outputs": [
        {
          "data": {
            "text/html": [
              "<div>\n",
              "<style scoped>\n",
              "    .dataframe tbody tr th:only-of-type {\n",
              "        vertical-align: middle;\n",
              "    }\n",
              "\n",
              "    .dataframe tbody tr th {\n",
              "        vertical-align: top;\n",
              "    }\n",
              "\n",
              "    .dataframe thead th {\n",
              "        text-align: right;\n",
              "    }\n",
              "</style>\n",
              "<table border=\"1\" class=\"dataframe\">\n",
              "  <thead>\n",
              "    <tr style=\"text-align: right;\">\n",
              "      <th></th>\n",
              "      <th>file name</th>\n",
              "      <th>entropy</th>\n",
              "      <th>url</th>\n",
              "      <th>function_count</th>\n",
              "      <th>average_cc</th>\n",
              "      <th>class_count</th>\n",
              "      <th>BaseHTTPServer.HTTPServer</th>\n",
              "      <th>DocXMLRPCServer.DocXMLRPCServer</th>\n",
              "      <th>FTP.retrbinary</th>\n",
              "      <th>FTP.retrlines</th>\n",
              "      <th>...</th>\n",
              "      <th>xmlrpc.client.ServerProxy</th>\n",
              "      <th>xmlrpc.server.DocXMLRPCServer</th>\n",
              "      <th>xmlrpc.server.SimpleXMLRPCServer</th>\n",
              "      <th>xmlrpclib.ServerProxy</th>\n",
              "      <th>zipapp</th>\n",
              "      <th>zipfile</th>\n",
              "      <th>zipfile.ZipFile</th>\n",
              "      <th>zipimport.zipimporter</th>\n",
              "      <th>zlib</th>\n",
              "      <th>label</th>\n",
              "    </tr>\n",
              "  </thead>\n",
              "  <tbody>\n",
              "    <tr>\n",
              "      <th>0</th>\n",
              "      <td>./data/pypi/benign/setup_helper.py</td>\n",
              "      <td>0.748544</td>\n",
              "      <td>NaN</td>\n",
              "      <td>0</td>\n",
              "      <td>0</td>\n",
              "      <td>0</td>\n",
              "      <td>0</td>\n",
              "      <td>0</td>\n",
              "      <td>0</td>\n",
              "      <td>0</td>\n",
              "      <td>...</td>\n",
              "      <td>0</td>\n",
              "      <td>0</td>\n",
              "      <td>0</td>\n",
              "      <td>0</td>\n",
              "      <td>0</td>\n",
              "      <td>0</td>\n",
              "      <td>0</td>\n",
              "      <td>0</td>\n",
              "      <td>0</td>\n",
              "      <td>0</td>\n",
              "    </tr>\n",
              "    <tr>\n",
              "      <th>1</th>\n",
              "      <td>./data/pypi/benign/dev.py</td>\n",
              "      <td>0.722306</td>\n",
              "      <td>NaN</td>\n",
              "      <td>0</td>\n",
              "      <td>0</td>\n",
              "      <td>0</td>\n",
              "      <td>0</td>\n",
              "      <td>0</td>\n",
              "      <td>0</td>\n",
              "      <td>0</td>\n",
              "      <td>...</td>\n",
              "      <td>0</td>\n",
              "      <td>0</td>\n",
              "      <td>0</td>\n",
              "      <td>0</td>\n",
              "      <td>0</td>\n",
              "      <td>0</td>\n",
              "      <td>0</td>\n",
              "      <td>0</td>\n",
              "      <td>0</td>\n",
              "      <td>0</td>\n",
              "    </tr>\n",
              "    <tr>\n",
              "      <th>2</th>\n",
              "      <td>./data/pypi/benign/gensetup.py</td>\n",
              "      <td>0.848151</td>\n",
              "      <td>NaN</td>\n",
              "      <td>0</td>\n",
              "      <td>0</td>\n",
              "      <td>0</td>\n",
              "      <td>0</td>\n",
              "      <td>0</td>\n",
              "      <td>0</td>\n",
              "      <td>0</td>\n",
              "      <td>...</td>\n",
              "      <td>0</td>\n",
              "      <td>0</td>\n",
              "      <td>0</td>\n",
              "      <td>0</td>\n",
              "      <td>0</td>\n",
              "      <td>0</td>\n",
              "      <td>0</td>\n",
              "      <td>0</td>\n",
              "      <td>0</td>\n",
              "      <td>0</td>\n",
              "    </tr>\n",
              "    <tr>\n",
              "      <th>3</th>\n",
              "      <td>./data/pypi/benign/setup.py</td>\n",
              "      <td>0.858386</td>\n",
              "      <td>NaN</td>\n",
              "      <td>0</td>\n",
              "      <td>0</td>\n",
              "      <td>0</td>\n",
              "      <td>0</td>\n",
              "      <td>0</td>\n",
              "      <td>0</td>\n",
              "      <td>0</td>\n",
              "      <td>...</td>\n",
              "      <td>0</td>\n",
              "      <td>0</td>\n",
              "      <td>0</td>\n",
              "      <td>0</td>\n",
              "      <td>0</td>\n",
              "      <td>0</td>\n",
              "      <td>0</td>\n",
              "      <td>0</td>\n",
              "      <td>0</td>\n",
              "      <td>0</td>\n",
              "    </tr>\n",
              "    <tr>\n",
              "      <th>4</th>\n",
              "      <td>./data/pypi/benign/conftest.py</td>\n",
              "      <td>0.943474</td>\n",
              "      <td>NaN</td>\n",
              "      <td>0</td>\n",
              "      <td>0</td>\n",
              "      <td>0</td>\n",
              "      <td>0</td>\n",
              "      <td>0</td>\n",
              "      <td>0</td>\n",
              "      <td>0</td>\n",
              "      <td>...</td>\n",
              "      <td>0</td>\n",
              "      <td>0</td>\n",
              "      <td>0</td>\n",
              "      <td>0</td>\n",
              "      <td>0</td>\n",
              "      <td>0</td>\n",
              "      <td>0</td>\n",
              "      <td>0</td>\n",
              "      <td>0</td>\n",
              "      <td>0</td>\n",
              "    </tr>\n",
              "  </tbody>\n",
              "</table>\n",
              "<p>5 rows × 533 columns</p>\n",
              "</div>"
            ],
            "text/plain": [
              "                            file name   entropy  url  function_count  \\\n",
              "0  ./data/pypi/benign/setup_helper.py  0.748544  NaN               0   \n",
              "1           ./data/pypi/benign/dev.py  0.722306  NaN               0   \n",
              "2      ./data/pypi/benign/gensetup.py  0.848151  NaN               0   \n",
              "3         ./data/pypi/benign/setup.py  0.858386  NaN               0   \n",
              "4      ./data/pypi/benign/conftest.py  0.943474  NaN               0   \n",
              "\n",
              "   average_cc  class_count  BaseHTTPServer.HTTPServer  \\\n",
              "0           0            0                          0   \n",
              "1           0            0                          0   \n",
              "2           0            0                          0   \n",
              "3           0            0                          0   \n",
              "4           0            0                          0   \n",
              "\n",
              "   DocXMLRPCServer.DocXMLRPCServer  FTP.retrbinary  FTP.retrlines  ...  \\\n",
              "0                                0               0              0  ...   \n",
              "1                                0               0              0  ...   \n",
              "2                                0               0              0  ...   \n",
              "3                                0               0              0  ...   \n",
              "4                                0               0              0  ...   \n",
              "\n",
              "   xmlrpc.client.ServerProxy  xmlrpc.server.DocXMLRPCServer  \\\n",
              "0                          0                              0   \n",
              "1                          0                              0   \n",
              "2                          0                              0   \n",
              "3                          0                              0   \n",
              "4                          0                              0   \n",
              "\n",
              "   xmlrpc.server.SimpleXMLRPCServer  xmlrpclib.ServerProxy  zipapp  zipfile  \\\n",
              "0                                 0                      0       0        0   \n",
              "1                                 0                      0       0        0   \n",
              "2                                 0                      0       0        0   \n",
              "3                                 0                      0       0        0   \n",
              "4                                 0                      0       0        0   \n",
              "\n",
              "   zipfile.ZipFile  zipimport.zipimporter  zlib  label  \n",
              "0                0                      0     0      0  \n",
              "1                0                      0     0      0  \n",
              "2                0                      0     0      0  \n",
              "3                0                      0     0      0  \n",
              "4                0                      0     0      0  \n",
              "\n",
              "[5 rows x 533 columns]"
            ]
          },
          "execution_count": 14,
          "metadata": {},
          "output_type": "execute_result"
        }
      ],
      "source": [
        "df.head()"
      ]
    },
    {
      "cell_type": "code",
      "execution_count": 15,
      "metadata": {
        "colab": {
          "base_uri": "https://localhost:8080/"
        },
        "id": "3LC8WCh6QdgF",
        "outputId": "6d0e9398-abf6-4d41-d9ae-97897cf0022c"
      },
      "outputs": [
        {
          "data": {
            "text/plain": [
              "file name                62875\n",
              "entropy                  62875\n",
              "url                          0\n",
              "function_count           62875\n",
              "average_cc               62875\n",
              "                         ...  \n",
              "zipfile                  62875\n",
              "zipfile.ZipFile          62875\n",
              "zipimport.zipimporter    62875\n",
              "zlib                     62875\n",
              "label                    62875\n",
              "Length: 533, dtype: int64"
            ]
          },
          "execution_count": 15,
          "metadata": {},
          "output_type": "execute_result"
        }
      ],
      "source": [
        "df.count()"
      ]
    },
    {
      "cell_type": "code",
      "execution_count": 16,
      "metadata": {
        "id": "v8KaheETmJkI"
      },
      "outputs": [],
      "source": [
        "# -1 레이블 제외\n",
        "#df = df[df['Label'] != -1]\n",
        "\n",
        "# 데이터와 레이블 분리\n",
        "X = df.drop(['label', 'file name', 'url'], axis=1)  # 'Label'과 'Filename' 열을 제외한 모든 데이터\n",
        "y = df['label']  # 'Label' 열"
      ]
    },
    {
      "cell_type": "code",
      "execution_count": 17,
      "metadata": {
        "colab": {
          "base_uri": "https://localhost:8080/",
          "height": 428
        },
        "id": "RQN7XHiwskU7",
        "outputId": "82b55bf7-b694-4f6f-c1d9-b99e9fd12343"
      },
      "outputs": [
        {
          "data": {
            "text/plain": [
              "Text(0.5, 1.0, 'label')"
            ]
          },
          "execution_count": 17,
          "metadata": {},
          "output_type": "execute_result"
        },
        {
          "data": {
            "image/png": "[encoded data removed]",
            "text/plain": [
              "<Figure size 600x400 with 1 Axes>"
            ]
          },
          "metadata": {},
          "output_type": "display_data"
        }
      ],
      "source": [
        "# 타겟 변수 분포_ 1:1임을 알 수 있다.\n",
        "plt.figure(figsize=(6, 4))\n",
        "sns.countplot(x='label', data=df)\n",
        "plt.title('label')"
      ]
    },
    {
      "cell_type": "code",
      "execution_count": 18,
      "metadata": {
        "colab": {
          "base_uri": "https://localhost:8080/"
        },
        "id": "uyeLKgH7kXdd",
        "outputId": "8450d223-077d-4af8-9afd-0ed4c4a6552a"
      },
      "outputs": [
        {
          "data": {
            "text/plain": [
              "file name                    0\n",
              "entropy                      0\n",
              "url                      62875\n",
              "function_count               0\n",
              "average_cc                   0\n",
              "                         ...  \n",
              "zipfile                      0\n",
              "zipfile.ZipFile              0\n",
              "zipimport.zipimporter        0\n",
              "zlib                         0\n",
              "label                        0\n",
              "Length: 533, dtype: int64"
            ]
          },
          "execution_count": 18,
          "metadata": {},
          "output_type": "execute_result"
        }
      ],
      "source": [
        "df.isnull().sum() # 결측값 확인"
      ]
    },
    {
      "cell_type": "code",
      "execution_count": 19,
      "metadata": {
        "colab": {
          "base_uri": "https://localhost:8080/"
        },
        "id": "MAKA-bTok_oH",
        "outputId": "e13c6f75-b531-49a7-f5e3-e688423c5268"
      },
      "outputs": [
        {
          "data": {
            "text/plain": [
              "(0, 533)"
            ]
          },
          "execution_count": 19,
          "metadata": {},
          "output_type": "execute_result"
        }
      ],
      "source": [
        "# NaN 값을 포함하는 행 제거\n",
        "df = df.dropna()\n",
        "df.shape"
      ]
    },
    {
      "cell_type": "code",
      "execution_count": 20,
      "metadata": {
        "id": "goSx4iBJmg16"
      },
      "outputs": [],
      "source": [
        "from imblearn.over_sampling import SMOTE\n",
        "from sklearn.model_selection import train_test_split, cross_val_score\n",
        "from sklearn.ensemble import RandomForestClassifier\n",
        "from sklearn.metrics import accuracy_score, classification_report\n",
        "from sklearn.impute import SimpleImputer\n",
        "\n",
        "# Create an imputer to replace NaN values with the median\n",
        "imputer = SimpleImputer(missing_values=np.nan, strategy='median')\n",
        "\n",
        "# SMOTE를 사용하여 오버샘플링\n",
        "# smote = SMOTE()\n",
        "# X_resampled, y_resampled = smote.fit_resample(X, y)\n",
        "X_resampled, y_resampled = X, y\n",
        "\n",
        "# 데이터를 학습 세트와 테스트 세트로 분할\n",
        "X_train, X_test, y_train, y_test = train_test_split(X_resampled, y_resampled, test_size=0.2, random_state=42)\n"
      ]
    },
    {
      "cell_type": "code",
      "execution_count": 21,
      "metadata": {
        "id": "gYEjy8TMr_Xj"
      },
      "outputs": [],
      "source": [
        "# X_resampled.shape # 2407-> 3798개로 증가했음을 알 수 있다."
      ]
    },
    {
      "cell_type": "code",
      "execution_count": 22,
      "metadata": {
        "colab": {
          "base_uri": "https://localhost:8080/",
          "height": 373
        },
        "id": "bTKs207fmoqo",
        "outputId": "029934f1-95a8-420d-b6d7-afdb121f43cc"
      },
      "outputs": [
        {
          "name": "stdout",
          "output_type": "stream",
          "text": [
            "Cross-validation scores: [0.93447316 0.95666004 0.85622266 0.89089463 0.84373757]\n",
            "Average CV score: 0.8963976143141152\n"
          ]
        }
      ],
      "source": [
        "# xgboost 모델 생성 및 학습\n",
        "model = RandomForestClassifier()\n",
        "model.fit(X_train, y_train)\n",
        "\n",
        "# 교차 검증 수행\n",
        "cv_scores = cross_val_score(model, X_resampled, y_resampled, cv=5)\n",
        "print(\"Cross-validation scores:\", cv_scores)\n",
        "print(\"Average CV score:\", cv_scores.mean())"
      ]
    },
    {
      "cell_type": "code",
      "execution_count": 23,
      "metadata": {
        "id": "XCiTmZbcm2oB"
      },
      "outputs": [
        {
          "name": "stdout",
          "output_type": "stream",
          "text": [
            "rf 모델 평가\n",
            "Accuracy: 0.9245\n",
            "Classification Report:\n",
            "              precision    recall  f1-score   support\n",
            "\n",
            "           0      0.970     0.905     0.937      7756\n",
            "           1      0.862     0.955     0.906      4819\n",
            "\n",
            "    accuracy                          0.924     12575\n",
            "   macro avg      0.916     0.930     0.922     12575\n",
            "weighted avg      0.929     0.924     0.925     12575\n",
            "\n"
          ]
        }
      ],
      "source": [
        "# 테스트 세트에 대한 모델 성능 평가\n",
        "predictions = model.predict(X_test)\n",
        "accuracy = accuracy_score(y_test, predictions)\n",
        "report = classification_report(y_test, predictions, digits=3)  # 여기서 digits 매개변수를 활용해 셋째 자리까지 나타낼 수 있어\n",
        "\n",
        "print(\"rf 모델 평가\")\n",
        "print(f\"Accuracy: {accuracy:.4f}\")\n",
        "print(\"Classification Report:\")\n",
        "print(report)"
      ]
    },
    {
      "cell_type": "code",
      "execution_count": 24,
      "metadata": {},
      "outputs": [
        {
          "data": {
            "image/png": "[encoded data removed]",
            "text/plain": [
              "<Figure size 600x400 with 2 Axes>"
            ]
          },
          "metadata": {},
          "output_type": "display_data"
        }
      ],
      "source": [
        "y_pred = model.predict(X_test)\n",
        "cm = confusion_matrix(y_test, y_pred)\n",
        "# 시각화\n",
        "plt.figure(figsize=(6, 4))\n",
        "sns.heatmap(cm, annot=True, fmt=\"d\", cmap=\"Blues\", xticklabels=[\"Benign\", \"Malignant\"], yticklabels=[\"Benign\", \"Malignant\"])\n",
        "plt.xlabel(\"Predicted\")\n",
        "plt.ylabel(\"Actual\")\n",
        "plt.title(' Confusion Matrix')\n",
        "plt.show()\n"
      ]
    },
    {
      "cell_type": "code",
      "execution_count": 25,
      "metadata": {
        "id": "RaDqn0jHmw4v"
      },
      "outputs": [],
      "source": [
        "# 피처 중요도 계산 및 출력\n",
        "feature_importances = model.feature_importances_\n",
        "feature_names = X_resampled.columns\n",
        "importances_df = pd.DataFrame({'feature': feature_names, 'importance': feature_importances})\n",
        "importances_df = importances_df.sort_values('importance', ascending=False)\n"
      ]
    },
    {
      "cell_type": "code",
      "execution_count": 26,
      "metadata": {},
      "outputs": [
        {
          "name": "stdout",
          "output_type": "stream",
          "text": [
            "Top 50 Feature Importances:\n",
            "                         feature  importance\n",
            "0                        entropy    0.610851\n",
            "124                    distutils    0.045764\n",
            "449             subprocess.Popen    0.036415\n",
            "447                   subprocess    0.026939\n",
            "131                         exec    0.020762\n",
            "244                         open    0.019274\n",
            "323                    os.system    0.016829\n",
            "148                      getattr    0.015262\n",
            "403                       socket    0.010668\n",
            "459                          sys    0.009122\n",
            "71              base64.b64decode    0.008880\n",
            "478                    threading    0.008262\n",
            "511                     win32com    0.007789\n",
            "483                   time.sleep    0.007718\n",
            "112                       ctypes    0.007548\n",
            "481                         time    0.007184\n",
            "379                      setattr    0.006867\n",
            "195                         json    0.005746\n",
            "331                      pathlib    0.005606\n",
            "40                    __import__    0.005259\n",
            "130                         eval    0.005123\n",
            "149                      getpass    0.004684\n",
            "439                          ssl    0.004389\n",
            "479             threading.Thread    0.003966\n",
            "471                     tempfile    0.003407\n",
            "269                    os.getcwd    0.003392\n",
            "407           socket.gethostname    0.003174\n",
            "301                    os.remove    0.003105\n",
            "486                       urllib    0.002941\n",
            "174                        input    0.002674\n",
            "289                      os.path    0.002562\n",
            "179                   io.BytesIO    0.002531\n",
            "420                socket.socket    0.002392\n",
            "460                     sys.exit    0.002322\n",
            "472  tempfile.NamedTemporaryFile    0.002294\n",
            "346                     platform    0.002147\n",
            "187                  io.StringIO    0.002009\n",
            "383                       shutil    0.001914\n",
            "154                      hashlib    0.001877\n",
            "502                         uuid    0.001837\n",
            "450              subprocess.call    0.001693\n",
            "156                         http    0.001452\n",
            "485                    traceback    0.001422\n",
            "59       asyncio.open_connection    0.001407\n",
            "455               subprocess.run    0.001394\n",
            "249                     os.chdir    0.001262\n",
            "492       urllib.request.urlopen    0.001261\n",
            "123                          dir    0.001229\n",
            "68               atexit.register    0.001213\n",
            "391                shutil.rmtree    0.001164\n"
          ]
        }
      ],
      "source": [
        "\n",
        "print(\"Top 50 Feature Importances:\")\n",
        "print(importances_df.head(50))"
      ]
    },
    {
      "cell_type": "code",
      "execution_count": 27,
      "metadata": {
        "id": "iH4O0H8nnhlF"
      },
      "outputs": [
        {
          "data": {
            "image/png": "[encoded data removed]",
            "text/plain": [
              "<Figure size 1800x800 with 1 Axes>"
            ]
          },
          "metadata": {},
          "output_type": "display_data"
        }
      ],
      "source": [
        "# 한글 폰트 설정\n",
        "plt.rc('font', family='NanumBarunGothic')\n",
        "\n",
        "# 가정: feature_importances와 feature_names이 정의되어 있음\n",
        "# feature_importances = ...\n",
        "# feature_names = ...\n",
        "\n",
        "def split_long_words(s, n):\n",
        "    \"\"\"주어진 문자열 s를 길이 n마다 줄바꿈 문자를 삽입하여 반환\"\"\"\n",
        "    return '\\n'.join([s[i:i+n] for i in range(0, len(s), n)])\n",
        "\n",
        "# 상위 20개 특성 선택\n",
        "indices = np.argsort(feature_importances)[-20:]\n",
        "\n",
        "# 색상 맵 설정\n",
        "cmap = plt.cm.viridis  # 또는 plt.cm.tab20 등 다양한 colormap 사용 가능\n",
        "colors = cmap(np.linspace(0, 1, len(indices)))\n",
        "\n",
        "# 특성 이름을 지정된 길이마다 줄바꿈 처리\n",
        "max_length = 8\n",
        "split_feature_names = [split_long_words(feature_names[i], max_length) for i in indices]\n",
        "\n",
        "plt.figure(figsize=(18, 8))\n",
        "plt.title(f\"Decision Tree 모델의 특성 중요도\")\n",
        "plt.bar(range(len(indices)), feature_importances[indices], color=colors, align='center')\n",
        "plt.xticks(range(len(indices)), split_feature_names, rotation=45, ha='right')\n",
        "plt.xlabel('Importance')\n",
        "plt.ylabel('Features')\n",
        "plt.show()"
      ]
    },
    {
      "cell_type": "markdown",
      "metadata": {
        "id": "NeNhxd6ZqDwP"
      },
      "source": [
        "## **검증코드**"
      ]
    },
    {
      "cell_type": "code",
      "execution_count": 28,
      "metadata": {
        "colab": {
          "base_uri": "https://localhost:8080/",
          "height": 373
        },
        "id": "R-r8PjM6ouR9",
        "outputId": "445fa9ca-a565-45b9-d439-31b157753363"
      },
      "outputs": [],
      "source": [
        "import xgboost as xgb\n",
        "from sklearn.metrics import accuracy_score\n",
        "import pandas as pd\n",
        "\n",
        "# 검증을 위해 기존 데이터에서 500개를 분리하여 검증용 데이터로 저장시킴.\n",
        "\n",
        "\n",
        "# 검증용 데이터 분리\n",
        "validation_data = pd.read_csv('./preprocessed_data/pypi/pypi_ast_analysis_validation.csv') # 검증 데이터 csv명 추가하기.\n",
        "# validation_data.head()\n",
        "# print(validation_data.columns)\n",
        "# validation_labels = validation_data['Label']\n",
        "validation_FileName = validation_data['file name']\n",
        "validation_features = validation_data.drop(columns=['file name', 'entropy'])"
      ]
    },
    {
      "cell_type": "code",
      "execution_count": 29,
      "metadata": {
        "colab": {
          "base_uri": "https://localhost:8080/",
          "height": 147
        },
        "id": "UDFfcO5Vqrw4",
        "outputId": "2e643f7c-e73c-42c2-babe-9ef95b72efbc"
      },
      "outputs": [
        {
          "data": {
            "text/html": [
              "<div>\n",
              "<style scoped>\n",
              "    .dataframe tbody tr th:only-of-type {\n",
              "        vertical-align: middle;\n",
              "    }\n",
              "\n",
              "    .dataframe tbody tr th {\n",
              "        vertical-align: top;\n",
              "    }\n",
              "\n",
              "    .dataframe thead th {\n",
              "        text-align: right;\n",
              "    }\n",
              "</style>\n",
              "<table border=\"1\" class=\"dataframe\">\n",
              "  <thead>\n",
              "    <tr style=\"text-align: right;\">\n",
              "      <th></th>\n",
              "      <th>BaseHTTPServer.HTTPServer</th>\n",
              "      <th>DocXMLRPCServer.DocXMLRPCServer</th>\n",
              "      <th>FTP.retrbinary</th>\n",
              "      <th>FTP.retrlines</th>\n",
              "      <th>FTP.storbinary</th>\n",
              "      <th>FTP.storlines</th>\n",
              "      <th>HTTPConnection.request</th>\n",
              "      <th>HTTPConnection.send</th>\n",
              "      <th>IMAP4.send</th>\n",
              "      <th>MySQLCursor.fetchall</th>\n",
              "      <th>...</th>\n",
              "      <th>xmlrpc.client.DateTime.encode</th>\n",
              "      <th>xmlrpc.client.ServerProxy</th>\n",
              "      <th>xmlrpc.server.DocXMLRPCServer</th>\n",
              "      <th>xmlrpc.server.SimpleXMLRPCServer</th>\n",
              "      <th>xmlrpclib.ServerProxy</th>\n",
              "      <th>zipapp</th>\n",
              "      <th>zipfile</th>\n",
              "      <th>zipfile.ZipFile</th>\n",
              "      <th>zipimport.zipimporter</th>\n",
              "      <th>zlib</th>\n",
              "    </tr>\n",
              "  </thead>\n",
              "  <tbody>\n",
              "    <tr>\n",
              "      <th>0</th>\n",
              "      <td>0</td>\n",
              "      <td>0</td>\n",
              "      <td>0</td>\n",
              "      <td>0</td>\n",
              "      <td>0</td>\n",
              "      <td>0</td>\n",
              "      <td>0</td>\n",
              "      <td>0</td>\n",
              "      <td>0</td>\n",
              "      <td>0</td>\n",
              "      <td>...</td>\n",
              "      <td>0</td>\n",
              "      <td>0</td>\n",
              "      <td>0</td>\n",
              "      <td>0</td>\n",
              "      <td>0</td>\n",
              "      <td>0</td>\n",
              "      <td>0</td>\n",
              "      <td>0</td>\n",
              "      <td>0</td>\n",
              "      <td>0</td>\n",
              "    </tr>\n",
              "    <tr>\n",
              "      <th>1</th>\n",
              "      <td>0</td>\n",
              "      <td>0</td>\n",
              "      <td>0</td>\n",
              "      <td>0</td>\n",
              "      <td>0</td>\n",
              "      <td>0</td>\n",
              "      <td>0</td>\n",
              "      <td>0</td>\n",
              "      <td>0</td>\n",
              "      <td>0</td>\n",
              "      <td>...</td>\n",
              "      <td>0</td>\n",
              "      <td>0</td>\n",
              "      <td>0</td>\n",
              "      <td>0</td>\n",
              "      <td>0</td>\n",
              "      <td>0</td>\n",
              "      <td>0</td>\n",
              "      <td>0</td>\n",
              "      <td>0</td>\n",
              "      <td>0</td>\n",
              "    </tr>\n",
              "    <tr>\n",
              "      <th>2</th>\n",
              "      <td>0</td>\n",
              "      <td>0</td>\n",
              "      <td>0</td>\n",
              "      <td>0</td>\n",
              "      <td>0</td>\n",
              "      <td>0</td>\n",
              "      <td>0</td>\n",
              "      <td>0</td>\n",
              "      <td>0</td>\n",
              "      <td>0</td>\n",
              "      <td>...</td>\n",
              "      <td>0</td>\n",
              "      <td>0</td>\n",
              "      <td>0</td>\n",
              "      <td>0</td>\n",
              "      <td>0</td>\n",
              "      <td>0</td>\n",
              "      <td>0</td>\n",
              "      <td>0</td>\n",
              "      <td>0</td>\n",
              "      <td>0</td>\n",
              "    </tr>\n",
              "    <tr>\n",
              "      <th>3</th>\n",
              "      <td>0</td>\n",
              "      <td>0</td>\n",
              "      <td>0</td>\n",
              "      <td>0</td>\n",
              "      <td>0</td>\n",
              "      <td>0</td>\n",
              "      <td>0</td>\n",
              "      <td>0</td>\n",
              "      <td>0</td>\n",
              "      <td>0</td>\n",
              "      <td>...</td>\n",
              "      <td>0</td>\n",
              "      <td>0</td>\n",
              "      <td>0</td>\n",
              "      <td>0</td>\n",
              "      <td>0</td>\n",
              "      <td>0</td>\n",
              "      <td>0</td>\n",
              "      <td>0</td>\n",
              "      <td>0</td>\n",
              "      <td>0</td>\n",
              "    </tr>\n",
              "    <tr>\n",
              "      <th>4</th>\n",
              "      <td>0</td>\n",
              "      <td>0</td>\n",
              "      <td>0</td>\n",
              "      <td>0</td>\n",
              "      <td>0</td>\n",
              "      <td>0</td>\n",
              "      <td>0</td>\n",
              "      <td>0</td>\n",
              "      <td>0</td>\n",
              "      <td>0</td>\n",
              "      <td>...</td>\n",
              "      <td>0</td>\n",
              "      <td>0</td>\n",
              "      <td>0</td>\n",
              "      <td>0</td>\n",
              "      <td>0</td>\n",
              "      <td>0</td>\n",
              "      <td>0</td>\n",
              "      <td>0</td>\n",
              "      <td>0</td>\n",
              "      <td>0</td>\n",
              "    </tr>\n",
              "  </tbody>\n",
              "</table>\n",
              "<p>5 rows × 526 columns</p>\n",
              "</div>"
            ],
            "text/plain": [
              "   BaseHTTPServer.HTTPServer  DocXMLRPCServer.DocXMLRPCServer  FTP.retrbinary  \\\n",
              "0                          0                                0               0   \n",
              "1                          0                                0               0   \n",
              "2                          0                                0               0   \n",
              "3                          0                                0               0   \n",
              "4                          0                                0               0   \n",
              "\n",
              "   FTP.retrlines  FTP.storbinary  FTP.storlines  HTTPConnection.request  \\\n",
              "0              0               0              0                       0   \n",
              "1              0               0              0                       0   \n",
              "2              0               0              0                       0   \n",
              "3              0               0              0                       0   \n",
              "4              0               0              0                       0   \n",
              "\n",
              "   HTTPConnection.send  IMAP4.send  MySQLCursor.fetchall  ...  \\\n",
              "0                    0           0                     0  ...   \n",
              "1                    0           0                     0  ...   \n",
              "2                    0           0                     0  ...   \n",
              "3                    0           0                     0  ...   \n",
              "4                    0           0                     0  ...   \n",
              "\n",
              "   xmlrpc.client.DateTime.encode  xmlrpc.client.ServerProxy  \\\n",
              "0                              0                          0   \n",
              "1                              0                          0   \n",
              "2                              0                          0   \n",
              "3                              0                          0   \n",
              "4                              0                          0   \n",
              "\n",
              "   xmlrpc.server.DocXMLRPCServer  xmlrpc.server.SimpleXMLRPCServer  \\\n",
              "0                              0                                 0   \n",
              "1                              0                                 0   \n",
              "2                              0                                 0   \n",
              "3                              0                                 0   \n",
              "4                              0                                 0   \n",
              "\n",
              "   xmlrpclib.ServerProxy  zipapp  zipfile  zipfile.ZipFile  \\\n",
              "0                      0       0        0                0   \n",
              "1                      0       0        0                0   \n",
              "2                      0       0        0                0   \n",
              "3                      0       0        0                0   \n",
              "4                      0       0        0                0   \n",
              "\n",
              "   zipimport.zipimporter  zlib  \n",
              "0                      0     0  \n",
              "1                      0     0  \n",
              "2                      0     0  \n",
              "3                      0     0  \n",
              "4                      0     0  \n",
              "\n",
              "[5 rows x 526 columns]"
            ]
          },
          "execution_count": 29,
          "metadata": {},
          "output_type": "execute_result"
        }
      ],
      "source": [
        "validation_features.head()"
      ]
    },
    {
      "cell_type": "code",
      "execution_count": 30,
      "metadata": {
        "id": "MObPyFUqqtR_"
      },
      "outputs": [
        {
          "ename": "ValueError",
          "evalue": "The feature names should match those that were passed during fit.\nFeature names seen at fit time, yet now missing:\n- average_cc\n- class_count\n- entropy\n- function_count\n",
          "output_type": "error",
          "traceback": [
            "\u001b[0;31m---------------------------------------------------------------------------\u001b[0m",
            "\u001b[0;31mValueError\u001b[0m                                Traceback (most recent call last)",
            "Cell \u001b[0;32mIn[30], line 2\u001b[0m\n\u001b[1;32m      1\u001b[0m \u001b[38;5;66;03m# 검증 데이터에 대한 악성 확률 예측\u001b[39;00m\n\u001b[0;32m----> 2\u001b[0m y_pred_prob \u001b[38;5;241m=\u001b[39m \u001b[43mmodel\u001b[49m\u001b[38;5;241;43m.\u001b[39;49m\u001b[43mpredict_proba\u001b[49m\u001b[43m(\u001b[49m\u001b[43mvalidation_features\u001b[49m\u001b[43m)\u001b[49m[:, \u001b[38;5;241m1\u001b[39m]\n\u001b[1;32m      3\u001b[0m \u001b[38;5;66;03m# 결과 출력\u001b[39;00m\n\u001b[1;32m      4\u001b[0m \u001b[38;5;28;01mfor\u001b[39;00m i, prob \u001b[38;5;129;01min\u001b[39;00m \u001b[38;5;28menumerate\u001b[39m(y_pred_prob):\n",
            "File \u001b[0;32m~/.local/lib/python3.8/site-packages/sklearn/ensemble/_forest.py:865\u001b[0m, in \u001b[0;36mForestClassifier.predict_proba\u001b[0;34m(self, X)\u001b[0m\n\u001b[1;32m    863\u001b[0m check_is_fitted(\u001b[38;5;28mself\u001b[39m)\n\u001b[1;32m    864\u001b[0m \u001b[38;5;66;03m# Check data\u001b[39;00m\n\u001b[0;32m--> 865\u001b[0m X \u001b[38;5;241m=\u001b[39m \u001b[38;5;28;43mself\u001b[39;49m\u001b[38;5;241;43m.\u001b[39;49m\u001b[43m_validate_X_predict\u001b[49m\u001b[43m(\u001b[49m\u001b[43mX\u001b[49m\u001b[43m)\u001b[49m\n\u001b[1;32m    867\u001b[0m \u001b[38;5;66;03m# Assign chunk of trees to jobs\u001b[39;00m\n\u001b[1;32m    868\u001b[0m n_jobs, _, _ \u001b[38;5;241m=\u001b[39m _partition_estimators(\u001b[38;5;28mself\u001b[39m\u001b[38;5;241m.\u001b[39mn_estimators, \u001b[38;5;28mself\u001b[39m\u001b[38;5;241m.\u001b[39mn_jobs)\n",
            "File \u001b[0;32m~/.local/lib/python3.8/site-packages/sklearn/ensemble/_forest.py:599\u001b[0m, in \u001b[0;36mBaseForest._validate_X_predict\u001b[0;34m(self, X)\u001b[0m\n\u001b[1;32m    596\u001b[0m \u001b[38;5;250m\u001b[39m\u001b[38;5;124;03m\"\"\"\u001b[39;00m\n\u001b[1;32m    597\u001b[0m \u001b[38;5;124;03mValidate X whenever one tries to predict, apply, predict_proba.\"\"\"\u001b[39;00m\n\u001b[1;32m    598\u001b[0m check_is_fitted(\u001b[38;5;28mself\u001b[39m)\n\u001b[0;32m--> 599\u001b[0m X \u001b[38;5;241m=\u001b[39m \u001b[38;5;28;43mself\u001b[39;49m\u001b[38;5;241;43m.\u001b[39;49m\u001b[43m_validate_data\u001b[49m\u001b[43m(\u001b[49m\u001b[43mX\u001b[49m\u001b[43m,\u001b[49m\u001b[43m \u001b[49m\u001b[43mdtype\u001b[49m\u001b[38;5;241;43m=\u001b[39;49m\u001b[43mDTYPE\u001b[49m\u001b[43m,\u001b[49m\u001b[43m \u001b[49m\u001b[43maccept_sparse\u001b[49m\u001b[38;5;241;43m=\u001b[39;49m\u001b[38;5;124;43m\"\u001b[39;49m\u001b[38;5;124;43mcsr\u001b[39;49m\u001b[38;5;124;43m\"\u001b[39;49m\u001b[43m,\u001b[49m\u001b[43m \u001b[49m\u001b[43mreset\u001b[49m\u001b[38;5;241;43m=\u001b[39;49m\u001b[38;5;28;43;01mFalse\u001b[39;49;00m\u001b[43m)\u001b[49m\n\u001b[1;32m    600\u001b[0m \u001b[38;5;28;01mif\u001b[39;00m issparse(X) \u001b[38;5;129;01mand\u001b[39;00m (X\u001b[38;5;241m.\u001b[39mindices\u001b[38;5;241m.\u001b[39mdtype \u001b[38;5;241m!=\u001b[39m np\u001b[38;5;241m.\u001b[39mintc \u001b[38;5;129;01mor\u001b[39;00m X\u001b[38;5;241m.\u001b[39mindptr\u001b[38;5;241m.\u001b[39mdtype \u001b[38;5;241m!=\u001b[39m np\u001b[38;5;241m.\u001b[39mintc):\n\u001b[1;32m    601\u001b[0m     \u001b[38;5;28;01mraise\u001b[39;00m \u001b[38;5;167;01mValueError\u001b[39;00m(\u001b[38;5;124m\"\u001b[39m\u001b[38;5;124mNo support for np.int64 index based sparse matrices\u001b[39m\u001b[38;5;124m\"\u001b[39m)\n",
            "File \u001b[0;32m~/.local/lib/python3.8/site-packages/sklearn/base.py:580\u001b[0m, in \u001b[0;36mBaseEstimator._validate_data\u001b[0;34m(self, X, y, reset, validate_separately, cast_to_ndarray, **check_params)\u001b[0m\n\u001b[1;32m    509\u001b[0m \u001b[38;5;28;01mdef\u001b[39;00m \u001b[38;5;21m_validate_data\u001b[39m(\n\u001b[1;32m    510\u001b[0m     \u001b[38;5;28mself\u001b[39m,\n\u001b[1;32m    511\u001b[0m     X\u001b[38;5;241m=\u001b[39m\u001b[38;5;124m\"\u001b[39m\u001b[38;5;124mno_validation\u001b[39m\u001b[38;5;124m\"\u001b[39m,\n\u001b[0;32m   (...)\u001b[0m\n\u001b[1;32m    516\u001b[0m     \u001b[38;5;241m*\u001b[39m\u001b[38;5;241m*\u001b[39mcheck_params,\n\u001b[1;32m    517\u001b[0m ):\n\u001b[1;32m    518\u001b[0m \u001b[38;5;250m    \u001b[39m\u001b[38;5;124;03m\"\"\"Validate input data and set or check the `n_features_in_` attribute.\u001b[39;00m\n\u001b[1;32m    519\u001b[0m \n\u001b[1;32m    520\u001b[0m \u001b[38;5;124;03m    Parameters\u001b[39;00m\n\u001b[0;32m   (...)\u001b[0m\n\u001b[1;32m    578\u001b[0m \u001b[38;5;124;03m        validated.\u001b[39;00m\n\u001b[1;32m    579\u001b[0m \u001b[38;5;124;03m    \"\"\"\u001b[39;00m\n\u001b[0;32m--> 580\u001b[0m     \u001b[38;5;28;43mself\u001b[39;49m\u001b[38;5;241;43m.\u001b[39;49m\u001b[43m_check_feature_names\u001b[49m\u001b[43m(\u001b[49m\u001b[43mX\u001b[49m\u001b[43m,\u001b[49m\u001b[43m \u001b[49m\u001b[43mreset\u001b[49m\u001b[38;5;241;43m=\u001b[39;49m\u001b[43mreset\u001b[49m\u001b[43m)\u001b[49m\n\u001b[1;32m    582\u001b[0m     \u001b[38;5;28;01mif\u001b[39;00m y \u001b[38;5;129;01mis\u001b[39;00m \u001b[38;5;28;01mNone\u001b[39;00m \u001b[38;5;129;01mand\u001b[39;00m \u001b[38;5;28mself\u001b[39m\u001b[38;5;241m.\u001b[39m_get_tags()[\u001b[38;5;124m\"\u001b[39m\u001b[38;5;124mrequires_y\u001b[39m\u001b[38;5;124m\"\u001b[39m]:\n\u001b[1;32m    583\u001b[0m         \u001b[38;5;28;01mraise\u001b[39;00m \u001b[38;5;167;01mValueError\u001b[39;00m(\n\u001b[1;32m    584\u001b[0m             \u001b[38;5;124mf\u001b[39m\u001b[38;5;124m\"\u001b[39m\u001b[38;5;124mThis \u001b[39m\u001b[38;5;132;01m{\u001b[39;00m\u001b[38;5;28mself\u001b[39m\u001b[38;5;241m.\u001b[39m\u001b[38;5;18m__class__\u001b[39m\u001b[38;5;241m.\u001b[39m\u001b[38;5;18m__name__\u001b[39m\u001b[38;5;132;01m}\u001b[39;00m\u001b[38;5;124m estimator \u001b[39m\u001b[38;5;124m\"\u001b[39m\n\u001b[1;32m    585\u001b[0m             \u001b[38;5;124m\"\u001b[39m\u001b[38;5;124mrequires y to be passed, but the target y is None.\u001b[39m\u001b[38;5;124m\"\u001b[39m\n\u001b[1;32m    586\u001b[0m         )\n",
            "File \u001b[0;32m~/.local/lib/python3.8/site-packages/sklearn/base.py:507\u001b[0m, in \u001b[0;36mBaseEstimator._check_feature_names\u001b[0;34m(self, X, reset)\u001b[0m\n\u001b[1;32m    502\u001b[0m \u001b[38;5;28;01mif\u001b[39;00m \u001b[38;5;129;01mnot\u001b[39;00m missing_names \u001b[38;5;129;01mand\u001b[39;00m \u001b[38;5;129;01mnot\u001b[39;00m unexpected_names:\n\u001b[1;32m    503\u001b[0m     message \u001b[38;5;241m+\u001b[39m\u001b[38;5;241m=\u001b[39m (\n\u001b[1;32m    504\u001b[0m         \u001b[38;5;124m\"\u001b[39m\u001b[38;5;124mFeature names must be in the same order as they were in fit.\u001b[39m\u001b[38;5;130;01m\\n\u001b[39;00m\u001b[38;5;124m\"\u001b[39m\n\u001b[1;32m    505\u001b[0m     )\n\u001b[0;32m--> 507\u001b[0m \u001b[38;5;28;01mraise\u001b[39;00m \u001b[38;5;167;01mValueError\u001b[39;00m(message)\n",
            "\u001b[0;31mValueError\u001b[0m: The feature names should match those that were passed during fit.\nFeature names seen at fit time, yet now missing:\n- average_cc\n- class_count\n- entropy\n- function_count\n"
          ]
        }
      ],
      "source": [
        "# 검증 데이터에 대한 악성 확률 예측\n",
        "y_pred_prob = model.predict_proba(validation_features)[:, 1]\n",
        "# 결과 출력\n",
        "for i, prob in enumerate(y_pred_prob):\n",
        "    print(f\"Validation Sample {i}: Malignant Probability = {prob:.4f}\")\n"
      ]
    },
    {
      "cell_type": "code",
      "execution_count": null,
      "metadata": {
        "id": "YSx7QGpGqvAf"
      },
      "outputs": [],
      "source": [
        "import pandas as pd\n",
        "\n",
        "# 악성 확률이 0.9 이상인 파일 정보를 담을 데이터프레임 생성\n",
        "# detection_df = pd.DataFrame(columns=['file name', 'Malignant Probability', 'URL', 'package'])\n",
        "detection_df = pd.DataFrame(columns=['file name', 'Malignant Probability'])\n",
        "\n",
        "# for filename, prob, url, package in zip(validation_FileName, y_pred_prob, validation_data['URL'], validation_data['package']):\n",
        "for filename, prob in zip(validation_FileName, y_pred_prob):\n",
        "    if prob >= 0.95:\n",
        "        # 악성 확률이 0.95 이상인 경우에만 데이터프레임에 추가\n",
        "        detection_df = pd.concat([detection_df, pd.DataFrame({'file name': [filename], 'Malignant Probability': [prob]})], ignore_index=True)\n",
        "\n",
        "detection_df.to_csv('./validation_result/result.csv', index=False)\n"
      ]
    },
    {
      "cell_type": "code",
      "execution_count": null,
      "metadata": {
        "id": "GzGF0UOtrUou"
      },
      "outputs": [],
      "source": [
        "detection_df = pd.read_csv('./validation_result/result.csv')\n",
        "# print(detection_df)"
      ]
    }
  ],
  "metadata": {
    "colab": {
      "provenance": []
    },
    "kernelspec": {
      "display_name": "Python 3",
      "name": "python3"
    },
    "language_info": {
      "codemirror_mode": {
        "name": "ipython",
        "version": 3
      },
      "file_extension": ".py",
      "mimetype": "text/x-python",
      "name": "python",
      "nbconvert_exporter": "python",
      "pygments_lexer": "ipython3",
      "version": "3.8.10"
    }
  },
  "nbformat": 4,
  "nbformat_minor": 0
}
