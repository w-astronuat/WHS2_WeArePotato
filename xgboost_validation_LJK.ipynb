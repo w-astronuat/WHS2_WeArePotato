{
  "cells": [
    {
      "cell_type": "code",
      "execution_count": 31,
      "metadata": {
        "id": "AzvAhcD8tYEB"
      },
      "outputs": [],
      "source": [
        "# 필요한 라이브러리 설치 및 임포트\n",
        "import pandas as pd\n",
        "import numpy as np\n",
        "from sklearn.model_selection import train_test_split, cross_val_score\n",
        "from xgboost import XGBClassifier\n",
        "from sklearn.metrics import classification_report, confusion_matrix, accuracy_score\n",
        "import matplotlib.pyplot as plt\n",
        "import seaborn as sns"
      ]
    },
    {
      "cell_type": "code",
      "execution_count": 32,
      "metadata": {
        "id": "9cOX-BKCl3AF"
      },
      "outputs": [],
      "source": [
        "#데이터 로드\n",
        "df_benign =  './preprocessed_data/pypi/pypi_ast_analysis_benign.csv' # benign\n",
        "df_mal = './preprocessed_data/pypi/pypi_ast_analysis_malicious.csv' #malicious"
      ]
    },
    {
      "cell_type": "code",
      "execution_count": 33,
      "metadata": {
        "id": "VEWtfmyRwWnc"
      },
      "outputs": [],
      "source": [
        "df_benign = pd.read_csv(df_benign)"
      ]
    },
    {
      "cell_type": "code",
      "execution_count": 34,
      "metadata": {
        "id": "VpIT_Q-nwZIt"
      },
      "outputs": [],
      "source": [
        "df_mal = pd.read_csv(df_mal)"
      ]
    },
    {
      "cell_type": "code",
      "execution_count": 35,
      "metadata": {
        "colab": {
          "base_uri": "https://localhost:8080/",
          "height": 256
        },
        "id": "5udMgF7kjIfd",
        "outputId": "e9469880-76aa-48c3-b043-9a6446982a7b"
      },
      "outputs": [
        {
          "data": {
            "text/html": [
              "<div>\n",
              "<style scoped>\n",
              "    .dataframe tbody tr th:only-of-type {\n",
              "        vertical-align: middle;\n",
              "    }\n",
              "\n",
              "    .dataframe tbody tr th {\n",
              "        vertical-align: top;\n",
              "    }\n",
              "\n",
              "    .dataframe thead th {\n",
              "        text-align: right;\n",
              "    }\n",
              "</style>\n",
              "<table border=\"1\" class=\"dataframe\">\n",
              "  <thead>\n",
              "    <tr style=\"text-align: right;\">\n",
              "      <th></th>\n",
              "      <th>file name</th>\n",
              "      <th>entropy</th>\n",
              "      <th>url</th>\n",
              "      <th>function_count</th>\n",
              "      <th>average_cc</th>\n",
              "      <th>class_count</th>\n",
              "      <th>BaseHTTPServer.HTTPServer</th>\n",
              "      <th>DocXMLRPCServer.DocXMLRPCServer</th>\n",
              "      <th>FTP.retrbinary</th>\n",
              "      <th>FTP.retrlines</th>\n",
              "      <th>...</th>\n",
              "      <th>xmlrpc.client.DateTime.encode</th>\n",
              "      <th>xmlrpc.client.ServerProxy</th>\n",
              "      <th>xmlrpc.server.DocXMLRPCServer</th>\n",
              "      <th>xmlrpc.server.SimpleXMLRPCServer</th>\n",
              "      <th>xmlrpclib.ServerProxy</th>\n",
              "      <th>zipapp</th>\n",
              "      <th>zipfile</th>\n",
              "      <th>zipfile.ZipFile</th>\n",
              "      <th>zipimport.zipimporter</th>\n",
              "      <th>zlib</th>\n",
              "    </tr>\n",
              "  </thead>\n",
              "  <tbody>\n",
              "    <tr>\n",
              "      <th>0</th>\n",
              "      <td>./data/pypi/benign/setup_helper.py</td>\n",
              "      <td>0.748544</td>\n",
              "      <td>NaN</td>\n",
              "      <td>0</td>\n",
              "      <td>0</td>\n",
              "      <td>0</td>\n",
              "      <td>0</td>\n",
              "      <td>0</td>\n",
              "      <td>0</td>\n",
              "      <td>0</td>\n",
              "      <td>...</td>\n",
              "      <td>0</td>\n",
              "      <td>0</td>\n",
              "      <td>0</td>\n",
              "      <td>0</td>\n",
              "      <td>0</td>\n",
              "      <td>0</td>\n",
              "      <td>0</td>\n",
              "      <td>0</td>\n",
              "      <td>0</td>\n",
              "      <td>0</td>\n",
              "    </tr>\n",
              "    <tr>\n",
              "      <th>1</th>\n",
              "      <td>./data/pypi/benign/dev.py</td>\n",
              "      <td>0.722306</td>\n",
              "      <td>NaN</td>\n",
              "      <td>0</td>\n",
              "      <td>0</td>\n",
              "      <td>0</td>\n",
              "      <td>0</td>\n",
              "      <td>0</td>\n",
              "      <td>0</td>\n",
              "      <td>0</td>\n",
              "      <td>...</td>\n",
              "      <td>0</td>\n",
              "      <td>0</td>\n",
              "      <td>0</td>\n",
              "      <td>0</td>\n",
              "      <td>0</td>\n",
              "      <td>0</td>\n",
              "      <td>0</td>\n",
              "      <td>0</td>\n",
              "      <td>0</td>\n",
              "      <td>0</td>\n",
              "    </tr>\n",
              "    <tr>\n",
              "      <th>2</th>\n",
              "      <td>./data/pypi/benign/gensetup.py</td>\n",
              "      <td>0.848151</td>\n",
              "      <td>NaN</td>\n",
              "      <td>0</td>\n",
              "      <td>0</td>\n",
              "      <td>0</td>\n",
              "      <td>0</td>\n",
              "      <td>0</td>\n",
              "      <td>0</td>\n",
              "      <td>0</td>\n",
              "      <td>...</td>\n",
              "      <td>0</td>\n",
              "      <td>0</td>\n",
              "      <td>0</td>\n",
              "      <td>0</td>\n",
              "      <td>0</td>\n",
              "      <td>0</td>\n",
              "      <td>0</td>\n",
              "      <td>0</td>\n",
              "      <td>0</td>\n",
              "      <td>0</td>\n",
              "    </tr>\n",
              "    <tr>\n",
              "      <th>3</th>\n",
              "      <td>./data/pypi/benign/setup.py</td>\n",
              "      <td>0.858386</td>\n",
              "      <td>NaN</td>\n",
              "      <td>0</td>\n",
              "      <td>0</td>\n",
              "      <td>0</td>\n",
              "      <td>0</td>\n",
              "      <td>0</td>\n",
              "      <td>0</td>\n",
              "      <td>0</td>\n",
              "      <td>...</td>\n",
              "      <td>0</td>\n",
              "      <td>0</td>\n",
              "      <td>0</td>\n",
              "      <td>0</td>\n",
              "      <td>0</td>\n",
              "      <td>0</td>\n",
              "      <td>0</td>\n",
              "      <td>0</td>\n",
              "      <td>0</td>\n",
              "      <td>0</td>\n",
              "    </tr>\n",
              "    <tr>\n",
              "      <th>4</th>\n",
              "      <td>./data/pypi/benign/conftest.py</td>\n",
              "      <td>0.943474</td>\n",
              "      <td>NaN</td>\n",
              "      <td>0</td>\n",
              "      <td>0</td>\n",
              "      <td>0</td>\n",
              "      <td>0</td>\n",
              "      <td>0</td>\n",
              "      <td>0</td>\n",
              "      <td>0</td>\n",
              "      <td>...</td>\n",
              "      <td>0</td>\n",
              "      <td>0</td>\n",
              "      <td>0</td>\n",
              "      <td>0</td>\n",
              "      <td>0</td>\n",
              "      <td>0</td>\n",
              "      <td>0</td>\n",
              "      <td>0</td>\n",
              "      <td>0</td>\n",
              "      <td>0</td>\n",
              "    </tr>\n",
              "  </tbody>\n",
              "</table>\n",
              "<p>5 rows × 532 columns</p>\n",
              "</div>"
            ],
            "text/plain": [
              "                            file name   entropy  url  function_count  \\\n",
              "0  ./data/pypi/benign/setup_helper.py  0.748544  NaN               0   \n",
              "1           ./data/pypi/benign/dev.py  0.722306  NaN               0   \n",
              "2      ./data/pypi/benign/gensetup.py  0.848151  NaN               0   \n",
              "3         ./data/pypi/benign/setup.py  0.858386  NaN               0   \n",
              "4      ./data/pypi/benign/conftest.py  0.943474  NaN               0   \n",
              "\n",
              "   average_cc  class_count  BaseHTTPServer.HTTPServer  \\\n",
              "0           0            0                          0   \n",
              "1           0            0                          0   \n",
              "2           0            0                          0   \n",
              "3           0            0                          0   \n",
              "4           0            0                          0   \n",
              "\n",
              "   DocXMLRPCServer.DocXMLRPCServer  FTP.retrbinary  FTP.retrlines  ...  \\\n",
              "0                                0               0              0  ...   \n",
              "1                                0               0              0  ...   \n",
              "2                                0               0              0  ...   \n",
              "3                                0               0              0  ...   \n",
              "4                                0               0              0  ...   \n",
              "\n",
              "   xmlrpc.client.DateTime.encode  xmlrpc.client.ServerProxy  \\\n",
              "0                              0                          0   \n",
              "1                              0                          0   \n",
              "2                              0                          0   \n",
              "3                              0                          0   \n",
              "4                              0                          0   \n",
              "\n",
              "   xmlrpc.server.DocXMLRPCServer  xmlrpc.server.SimpleXMLRPCServer  \\\n",
              "0                              0                                 0   \n",
              "1                              0                                 0   \n",
              "2                              0                                 0   \n",
              "3                              0                                 0   \n",
              "4                              0                                 0   \n",
              "\n",
              "   xmlrpclib.ServerProxy  zipapp  zipfile  zipfile.ZipFile  \\\n",
              "0                      0       0        0                0   \n",
              "1                      0       0        0                0   \n",
              "2                      0       0        0                0   \n",
              "3                      0       0        0                0   \n",
              "4                      0       0        0                0   \n",
              "\n",
              "   zipimport.zipimporter  zlib  \n",
              "0                      0     0  \n",
              "1                      0     0  \n",
              "2                      0     0  \n",
              "3                      0     0  \n",
              "4                      0     0  \n",
              "\n",
              "[5 rows x 532 columns]"
            ]
          },
          "execution_count": 35,
          "metadata": {},
          "output_type": "execute_result"
        }
      ],
      "source": [
        "df_benign.head()"
      ]
    },
    {
      "cell_type": "code",
      "execution_count": 36,
      "metadata": {
        "colab": {
          "base_uri": "https://localhost:8080/"
        },
        "id": "l0eZfIwejKTJ",
        "outputId": "2c83be37-df5e-499c-8845-cb63e833783f"
      },
      "outputs": [
        {
          "data": {
            "text/plain": [
              "(39132, 532)"
            ]
          },
          "execution_count": 36,
          "metadata": {},
          "output_type": "execute_result"
        }
      ],
      "source": [
        "df_benign.shape"
      ]
    },
    {
      "cell_type": "code",
      "execution_count": 37,
      "metadata": {
        "colab": {
          "base_uri": "https://localhost:8080/",
          "height": 342
        },
        "id": "AWZ3eKw3jMlB",
        "outputId": "a2143456-a9d7-4404-b083-5274aa2a3c73"
      },
      "outputs": [
        {
          "data": {
            "text/html": [
              "<div>\n",
              "<style scoped>\n",
              "    .dataframe tbody tr th:only-of-type {\n",
              "        vertical-align: middle;\n",
              "    }\n",
              "\n",
              "    .dataframe tbody tr th {\n",
              "        vertical-align: top;\n",
              "    }\n",
              "\n",
              "    .dataframe thead th {\n",
              "        text-align: right;\n",
              "    }\n",
              "</style>\n",
              "<table border=\"1\" class=\"dataframe\">\n",
              "  <thead>\n",
              "    <tr style=\"text-align: right;\">\n",
              "      <th></th>\n",
              "      <th>file name</th>\n",
              "      <th>entropy</th>\n",
              "      <th>url</th>\n",
              "      <th>function_count</th>\n",
              "      <th>average_cc</th>\n",
              "      <th>class_count</th>\n",
              "      <th>BaseHTTPServer.HTTPServer</th>\n",
              "      <th>DocXMLRPCServer.DocXMLRPCServer</th>\n",
              "      <th>FTP.retrbinary</th>\n",
              "      <th>FTP.retrlines</th>\n",
              "      <th>...</th>\n",
              "      <th>xmlrpc.client.DateTime.encode</th>\n",
              "      <th>xmlrpc.client.ServerProxy</th>\n",
              "      <th>xmlrpc.server.DocXMLRPCServer</th>\n",
              "      <th>xmlrpc.server.SimpleXMLRPCServer</th>\n",
              "      <th>xmlrpclib.ServerProxy</th>\n",
              "      <th>zipapp</th>\n",
              "      <th>zipfile</th>\n",
              "      <th>zipfile.ZipFile</th>\n",
              "      <th>zipimport.zipimporter</th>\n",
              "      <th>zlib</th>\n",
              "    </tr>\n",
              "  </thead>\n",
              "  <tbody>\n",
              "    <tr>\n",
              "      <th>0</th>\n",
              "      <td>./data/pypi/malicious/malicious-package-exampl...</td>\n",
              "      <td>0.820153</td>\n",
              "      <td>NaN</td>\n",
              "      <td>0</td>\n",
              "      <td>0</td>\n",
              "      <td>0</td>\n",
              "      <td>0</td>\n",
              "      <td>0</td>\n",
              "      <td>0</td>\n",
              "      <td>0</td>\n",
              "      <td>...</td>\n",
              "      <td>0</td>\n",
              "      <td>0</td>\n",
              "      <td>0</td>\n",
              "      <td>0</td>\n",
              "      <td>0</td>\n",
              "      <td>0</td>\n",
              "      <td>0</td>\n",
              "      <td>0</td>\n",
              "      <td>0</td>\n",
              "      <td>0</td>\n",
              "    </tr>\n",
              "    <tr>\n",
              "      <th>1</th>\n",
              "      <td>./data/pypi/malicious/pypi_malregistry-main/sc...</td>\n",
              "      <td>0.586384</td>\n",
              "      <td>NaN</td>\n",
              "      <td>0</td>\n",
              "      <td>0</td>\n",
              "      <td>0</td>\n",
              "      <td>0</td>\n",
              "      <td>0</td>\n",
              "      <td>0</td>\n",
              "      <td>0</td>\n",
              "      <td>...</td>\n",
              "      <td>0</td>\n",
              "      <td>0</td>\n",
              "      <td>0</td>\n",
              "      <td>0</td>\n",
              "      <td>0</td>\n",
              "      <td>0</td>\n",
              "      <td>0</td>\n",
              "      <td>0</td>\n",
              "      <td>0</td>\n",
              "      <td>0</td>\n",
              "    </tr>\n",
              "    <tr>\n",
              "      <th>2</th>\n",
              "      <td>./data/pypi/malicious/pypi_malregistry-main/sc...</td>\n",
              "      <td>0.000000</td>\n",
              "      <td>NaN</td>\n",
              "      <td>0</td>\n",
              "      <td>0</td>\n",
              "      <td>0</td>\n",
              "      <td>0</td>\n",
              "      <td>0</td>\n",
              "      <td>0</td>\n",
              "      <td>0</td>\n",
              "      <td>...</td>\n",
              "      <td>0</td>\n",
              "      <td>0</td>\n",
              "      <td>0</td>\n",
              "      <td>0</td>\n",
              "      <td>0</td>\n",
              "      <td>0</td>\n",
              "      <td>0</td>\n",
              "      <td>0</td>\n",
              "      <td>0</td>\n",
              "      <td>0</td>\n",
              "    </tr>\n",
              "    <tr>\n",
              "      <th>3</th>\n",
              "      <td>./data/pypi/malicious/pypi_malregistry-main/op...</td>\n",
              "      <td>0.586508</td>\n",
              "      <td>NaN</td>\n",
              "      <td>0</td>\n",
              "      <td>0</td>\n",
              "      <td>0</td>\n",
              "      <td>0</td>\n",
              "      <td>0</td>\n",
              "      <td>0</td>\n",
              "      <td>0</td>\n",
              "      <td>...</td>\n",
              "      <td>0</td>\n",
              "      <td>0</td>\n",
              "      <td>0</td>\n",
              "      <td>0</td>\n",
              "      <td>0</td>\n",
              "      <td>0</td>\n",
              "      <td>0</td>\n",
              "      <td>0</td>\n",
              "      <td>0</td>\n",
              "      <td>0</td>\n",
              "    </tr>\n",
              "    <tr>\n",
              "      <th>4</th>\n",
              "      <td>./data/pypi/malicious/pypi_malregistry-main/op...</td>\n",
              "      <td>0.000000</td>\n",
              "      <td>NaN</td>\n",
              "      <td>0</td>\n",
              "      <td>0</td>\n",
              "      <td>0</td>\n",
              "      <td>0</td>\n",
              "      <td>0</td>\n",
              "      <td>0</td>\n",
              "      <td>0</td>\n",
              "      <td>...</td>\n",
              "      <td>0</td>\n",
              "      <td>0</td>\n",
              "      <td>0</td>\n",
              "      <td>0</td>\n",
              "      <td>0</td>\n",
              "      <td>0</td>\n",
              "      <td>0</td>\n",
              "      <td>0</td>\n",
              "      <td>0</td>\n",
              "      <td>0</td>\n",
              "    </tr>\n",
              "  </tbody>\n",
              "</table>\n",
              "<p>5 rows × 532 columns</p>\n",
              "</div>"
            ],
            "text/plain": [
              "                                           file name   entropy  url  \\\n",
              "0  ./data/pypi/malicious/malicious-package-exampl...  0.820153  NaN   \n",
              "1  ./data/pypi/malicious/pypi_malregistry-main/sc...  0.586384  NaN   \n",
              "2  ./data/pypi/malicious/pypi_malregistry-main/sc...  0.000000  NaN   \n",
              "3  ./data/pypi/malicious/pypi_malregistry-main/op...  0.586508  NaN   \n",
              "4  ./data/pypi/malicious/pypi_malregistry-main/op...  0.000000  NaN   \n",
              "\n",
              "   function_count  average_cc  class_count  BaseHTTPServer.HTTPServer  \\\n",
              "0               0           0            0                          0   \n",
              "1               0           0            0                          0   \n",
              "2               0           0            0                          0   \n",
              "3               0           0            0                          0   \n",
              "4               0           0            0                          0   \n",
              "\n",
              "   DocXMLRPCServer.DocXMLRPCServer  FTP.retrbinary  FTP.retrlines  ...  \\\n",
              "0                                0               0              0  ...   \n",
              "1                                0               0              0  ...   \n",
              "2                                0               0              0  ...   \n",
              "3                                0               0              0  ...   \n",
              "4                                0               0              0  ...   \n",
              "\n",
              "   xmlrpc.client.DateTime.encode  xmlrpc.client.ServerProxy  \\\n",
              "0                              0                          0   \n",
              "1                              0                          0   \n",
              "2                              0                          0   \n",
              "3                              0                          0   \n",
              "4                              0                          0   \n",
              "\n",
              "   xmlrpc.server.DocXMLRPCServer  xmlrpc.server.SimpleXMLRPCServer  \\\n",
              "0                              0                                 0   \n",
              "1                              0                                 0   \n",
              "2                              0                                 0   \n",
              "3                              0                                 0   \n",
              "4                              0                                 0   \n",
              "\n",
              "   xmlrpclib.ServerProxy  zipapp  zipfile  zipfile.ZipFile  \\\n",
              "0                      0       0        0                0   \n",
              "1                      0       0        0                0   \n",
              "2                      0       0        0                0   \n",
              "3                      0       0        0                0   \n",
              "4                      0       0        0                0   \n",
              "\n",
              "   zipimport.zipimporter  zlib  \n",
              "0                      0     0  \n",
              "1                      0     0  \n",
              "2                      0     0  \n",
              "3                      0     0  \n",
              "4                      0     0  \n",
              "\n",
              "[5 rows x 532 columns]"
            ]
          },
          "execution_count": 37,
          "metadata": {},
          "output_type": "execute_result"
        }
      ],
      "source": [
        "df_mal.head()"
      ]
    },
    {
      "cell_type": "code",
      "execution_count": 38,
      "metadata": {
        "colab": {
          "base_uri": "https://localhost:8080/"
        },
        "id": "RRcWV27BjPK7",
        "outputId": "afd76847-da94-4451-b009-a0150ff800de"
      },
      "outputs": [
        {
          "data": {
            "text/plain": [
              "(23743, 532)"
            ]
          },
          "execution_count": 38,
          "metadata": {},
          "output_type": "execute_result"
        }
      ],
      "source": [
        "df_mal.shape"
      ]
    },
    {
      "cell_type": "code",
      "execution_count": 39,
      "metadata": {
        "id": "k3p40YiHQG7g"
      },
      "outputs": [],
      "source": [
        "df_benign['label'] = 0\n",
        "df_mal['label'] = 1"
      ]
    },
    {
      "cell_type": "code",
      "execution_count": 40,
      "metadata": {
        "colab": {
          "base_uri": "https://localhost:8080/"
        },
        "id": "-65K-vF_j6Kt",
        "outputId": "75b83be0-39be-4eb5-ba49-8490fcc7e30f"
      },
      "outputs": [
        {
          "data": {
            "text/plain": [
              "(62875, 533)"
            ]
          },
          "execution_count": 40,
          "metadata": {},
          "output_type": "execute_result"
        }
      ],
      "source": [
        "df = pd.concat([df_benign, df_mal], ignore_index=True)\n",
        "df.shape"
      ]
    },
    {
      "cell_type": "code",
      "execution_count": 41,
      "metadata": {
        "colab": {
          "base_uri": "https://localhost:8080/"
        },
        "id": "GWqajIi1kCjb",
        "outputId": "7527d782-4065-4e2f-c0f4-cf7bcd5ea3cb"
      },
      "outputs": [
        {
          "data": {
            "text/plain": [
              "label\n",
              "0    39132\n",
              "Name: count, dtype: int64"
            ]
          },
          "execution_count": 41,
          "metadata": {},
          "output_type": "execute_result"
        }
      ],
      "source": [
        "df_benign['label'].value_counts()"
      ]
    },
    {
      "cell_type": "code",
      "execution_count": 42,
      "metadata": {
        "colab": {
          "base_uri": "https://localhost:8080/"
        },
        "id": "Mu3bNrBdQTyE",
        "outputId": "1d7921a8-a791-495a-a95d-e6bf1306d2b2"
      },
      "outputs": [
        {
          "data": {
            "text/plain": [
              "label\n",
              "1    23743\n",
              "Name: count, dtype: int64"
            ]
          },
          "execution_count": 42,
          "metadata": {},
          "output_type": "execute_result"
        }
      ],
      "source": [
        "df_mal['label'].value_counts()"
      ]
    },
    {
      "cell_type": "code",
      "execution_count": 43,
      "metadata": {
        "colab": {
          "base_uri": "https://localhost:8080/",
          "height": 256
        },
        "id": "4Uog-hbmQa75",
        "outputId": "d2ce2e6f-3505-4b47-e729-5cd603de683e"
      },
      "outputs": [
        {
          "data": {
            "text/html": [
              "<div>\n",
              "<style scoped>\n",
              "    .dataframe tbody tr th:only-of-type {\n",
              "        vertical-align: middle;\n",
              "    }\n",
              "\n",
              "    .dataframe tbody tr th {\n",
              "        vertical-align: top;\n",
              "    }\n",
              "\n",
              "    .dataframe thead th {\n",
              "        text-align: right;\n",
              "    }\n",
              "</style>\n",
              "<table border=\"1\" class=\"dataframe\">\n",
              "  <thead>\n",
              "    <tr style=\"text-align: right;\">\n",
              "      <th></th>\n",
              "      <th>file name</th>\n",
              "      <th>entropy</th>\n",
              "      <th>url</th>\n",
              "      <th>function_count</th>\n",
              "      <th>average_cc</th>\n",
              "      <th>class_count</th>\n",
              "      <th>BaseHTTPServer.HTTPServer</th>\n",
              "      <th>DocXMLRPCServer.DocXMLRPCServer</th>\n",
              "      <th>FTP.retrbinary</th>\n",
              "      <th>FTP.retrlines</th>\n",
              "      <th>...</th>\n",
              "      <th>xmlrpc.client.ServerProxy</th>\n",
              "      <th>xmlrpc.server.DocXMLRPCServer</th>\n",
              "      <th>xmlrpc.server.SimpleXMLRPCServer</th>\n",
              "      <th>xmlrpclib.ServerProxy</th>\n",
              "      <th>zipapp</th>\n",
              "      <th>zipfile</th>\n",
              "      <th>zipfile.ZipFile</th>\n",
              "      <th>zipimport.zipimporter</th>\n",
              "      <th>zlib</th>\n",
              "      <th>label</th>\n",
              "    </tr>\n",
              "  </thead>\n",
              "  <tbody>\n",
              "    <tr>\n",
              "      <th>0</th>\n",
              "      <td>./data/pypi/benign/setup_helper.py</td>\n",
              "      <td>0.748544</td>\n",
              "      <td>NaN</td>\n",
              "      <td>0</td>\n",
              "      <td>0</td>\n",
              "      <td>0</td>\n",
              "      <td>0</td>\n",
              "      <td>0</td>\n",
              "      <td>0</td>\n",
              "      <td>0</td>\n",
              "      <td>...</td>\n",
              "      <td>0</td>\n",
              "      <td>0</td>\n",
              "      <td>0</td>\n",
              "      <td>0</td>\n",
              "      <td>0</td>\n",
              "      <td>0</td>\n",
              "      <td>0</td>\n",
              "      <td>0</td>\n",
              "      <td>0</td>\n",
              "      <td>0</td>\n",
              "    </tr>\n",
              "    <tr>\n",
              "      <th>1</th>\n",
              "      <td>./data/pypi/benign/dev.py</td>\n",
              "      <td>0.722306</td>\n",
              "      <td>NaN</td>\n",
              "      <td>0</td>\n",
              "      <td>0</td>\n",
              "      <td>0</td>\n",
              "      <td>0</td>\n",
              "      <td>0</td>\n",
              "      <td>0</td>\n",
              "      <td>0</td>\n",
              "      <td>...</td>\n",
              "      <td>0</td>\n",
              "      <td>0</td>\n",
              "      <td>0</td>\n",
              "      <td>0</td>\n",
              "      <td>0</td>\n",
              "      <td>0</td>\n",
              "      <td>0</td>\n",
              "      <td>0</td>\n",
              "      <td>0</td>\n",
              "      <td>0</td>\n",
              "    </tr>\n",
              "    <tr>\n",
              "      <th>2</th>\n",
              "      <td>./data/pypi/benign/gensetup.py</td>\n",
              "      <td>0.848151</td>\n",
              "      <td>NaN</td>\n",
              "      <td>0</td>\n",
              "      <td>0</td>\n",
              "      <td>0</td>\n",
              "      <td>0</td>\n",
              "      <td>0</td>\n",
              "      <td>0</td>\n",
              "      <td>0</td>\n",
              "      <td>...</td>\n",
              "      <td>0</td>\n",
              "      <td>0</td>\n",
              "      <td>0</td>\n",
              "      <td>0</td>\n",
              "      <td>0</td>\n",
              "      <td>0</td>\n",
              "      <td>0</td>\n",
              "      <td>0</td>\n",
              "      <td>0</td>\n",
              "      <td>0</td>\n",
              "    </tr>\n",
              "    <tr>\n",
              "      <th>3</th>\n",
              "      <td>./data/pypi/benign/setup.py</td>\n",
              "      <td>0.858386</td>\n",
              "      <td>NaN</td>\n",
              "      <td>0</td>\n",
              "      <td>0</td>\n",
              "      <td>0</td>\n",
              "      <td>0</td>\n",
              "      <td>0</td>\n",
              "      <td>0</td>\n",
              "      <td>0</td>\n",
              "      <td>...</td>\n",
              "      <td>0</td>\n",
              "      <td>0</td>\n",
              "      <td>0</td>\n",
              "      <td>0</td>\n",
              "      <td>0</td>\n",
              "      <td>0</td>\n",
              "      <td>0</td>\n",
              "      <td>0</td>\n",
              "      <td>0</td>\n",
              "      <td>0</td>\n",
              "    </tr>\n",
              "    <tr>\n",
              "      <th>4</th>\n",
              "      <td>./data/pypi/benign/conftest.py</td>\n",
              "      <td>0.943474</td>\n",
              "      <td>NaN</td>\n",
              "      <td>0</td>\n",
              "      <td>0</td>\n",
              "      <td>0</td>\n",
              "      <td>0</td>\n",
              "      <td>0</td>\n",
              "      <td>0</td>\n",
              "      <td>0</td>\n",
              "      <td>...</td>\n",
              "      <td>0</td>\n",
              "      <td>0</td>\n",
              "      <td>0</td>\n",
              "      <td>0</td>\n",
              "      <td>0</td>\n",
              "      <td>0</td>\n",
              "      <td>0</td>\n",
              "      <td>0</td>\n",
              "      <td>0</td>\n",
              "      <td>0</td>\n",
              "    </tr>\n",
              "  </tbody>\n",
              "</table>\n",
              "<p>5 rows × 533 columns</p>\n",
              "</div>"
            ],
            "text/plain": [
              "                            file name   entropy  url  function_count  \\\n",
              "0  ./data/pypi/benign/setup_helper.py  0.748544  NaN               0   \n",
              "1           ./data/pypi/benign/dev.py  0.722306  NaN               0   \n",
              "2      ./data/pypi/benign/gensetup.py  0.848151  NaN               0   \n",
              "3         ./data/pypi/benign/setup.py  0.858386  NaN               0   \n",
              "4      ./data/pypi/benign/conftest.py  0.943474  NaN               0   \n",
              "\n",
              "   average_cc  class_count  BaseHTTPServer.HTTPServer  \\\n",
              "0           0            0                          0   \n",
              "1           0            0                          0   \n",
              "2           0            0                          0   \n",
              "3           0            0                          0   \n",
              "4           0            0                          0   \n",
              "\n",
              "   DocXMLRPCServer.DocXMLRPCServer  FTP.retrbinary  FTP.retrlines  ...  \\\n",
              "0                                0               0              0  ...   \n",
              "1                                0               0              0  ...   \n",
              "2                                0               0              0  ...   \n",
              "3                                0               0              0  ...   \n",
              "4                                0               0              0  ...   \n",
              "\n",
              "   xmlrpc.client.ServerProxy  xmlrpc.server.DocXMLRPCServer  \\\n",
              "0                          0                              0   \n",
              "1                          0                              0   \n",
              "2                          0                              0   \n",
              "3                          0                              0   \n",
              "4                          0                              0   \n",
              "\n",
              "   xmlrpc.server.SimpleXMLRPCServer  xmlrpclib.ServerProxy  zipapp  zipfile  \\\n",
              "0                                 0                      0       0        0   \n",
              "1                                 0                      0       0        0   \n",
              "2                                 0                      0       0        0   \n",
              "3                                 0                      0       0        0   \n",
              "4                                 0                      0       0        0   \n",
              "\n",
              "   zipfile.ZipFile  zipimport.zipimporter  zlib  label  \n",
              "0                0                      0     0      0  \n",
              "1                0                      0     0      0  \n",
              "2                0                      0     0      0  \n",
              "3                0                      0     0      0  \n",
              "4                0                      0     0      0  \n",
              "\n",
              "[5 rows x 533 columns]"
            ]
          },
          "execution_count": 43,
          "metadata": {},
          "output_type": "execute_result"
        }
      ],
      "source": [
        "df.head()"
      ]
    },
    {
      "cell_type": "code",
      "execution_count": 44,
      "metadata": {
        "colab": {
          "base_uri": "https://localhost:8080/"
        },
        "id": "3LC8WCh6QdgF",
        "outputId": "6d0e9398-abf6-4d41-d9ae-97897cf0022c"
      },
      "outputs": [
        {
          "data": {
            "text/plain": [
              "file name                62875\n",
              "entropy                  62875\n",
              "url                          0\n",
              "function_count           62875\n",
              "average_cc               62875\n",
              "                         ...  \n",
              "zipfile                  62875\n",
              "zipfile.ZipFile          62875\n",
              "zipimport.zipimporter    62875\n",
              "zlib                     62875\n",
              "label                    62875\n",
              "Length: 533, dtype: int64"
            ]
          },
          "execution_count": 44,
          "metadata": {},
          "output_type": "execute_result"
        }
      ],
      "source": [
        "df.count()"
      ]
    },
    {
      "cell_type": "code",
      "execution_count": 45,
      "metadata": {
        "id": "v8KaheETmJkI"
      },
      "outputs": [],
      "source": [
        "# -1 레이블 제외\n",
        "#df = df[df['Label'] != -1]\n",
        "\n",
        "# 데이터와 레이블 분리\n",
        "X = df.drop(['label', 'file name', 'url'], axis=1)  # 'Label'과 'Filename' 열을 제외한 모든 데이터\n",
        "y = df['label']  # 'Label' 열"
      ]
    },
    {
      "cell_type": "code",
      "execution_count": 46,
      "metadata": {
        "colab": {
          "base_uri": "https://localhost:8080/",
          "height": 428
        },
        "id": "RQN7XHiwskU7",
        "outputId": "82b55bf7-b694-4f6f-c1d9-b99e9fd12343"
      },
      "outputs": [
        {
          "data": {
            "text/plain": [
              "Text(0.5, 1.0, 'label')"
            ]
          },
          "execution_count": 46,
          "metadata": {},
          "output_type": "execute_result"
        },
        {
          "data": {
            "image/png": "[encoded data removed]",
            "text/plain": [
              "<Figure size 600x400 with 1 Axes>"
            ]
          },
          "metadata": {},
          "output_type": "display_data"
        }
      ],
      "source": [
        "# 타겟 변수 분포_ 1:1임을 알 수 있다.\n",
        "plt.figure(figsize=(6, 4))\n",
        "sns.countplot(x='label', data=df)\n",
        "plt.title('label')"
      ]
    },
    {
      "cell_type": "code",
      "execution_count": 47,
      "metadata": {
        "colab": {
          "base_uri": "https://localhost:8080/"
        },
        "id": "uyeLKgH7kXdd",
        "outputId": "8450d223-077d-4af8-9afd-0ed4c4a6552a"
      },
      "outputs": [
        {
          "data": {
            "text/plain": [
              "file name                    0\n",
              "entropy                      0\n",
              "url                      62875\n",
              "function_count               0\n",
              "average_cc                   0\n",
              "                         ...  \n",
              "zipfile                      0\n",
              "zipfile.ZipFile              0\n",
              "zipimport.zipimporter        0\n",
              "zlib                         0\n",
              "label                        0\n",
              "Length: 533, dtype: int64"
            ]
          },
          "execution_count": 47,
          "metadata": {},
          "output_type": "execute_result"
        }
      ],
      "source": [
        "df.isnull().sum() # 결측값 확인"
      ]
    },
    {
      "cell_type": "code",
      "execution_count": 48,
      "metadata": {
        "colab": {
          "base_uri": "https://localhost:8080/"
        },
        "id": "MAKA-bTok_oH",
        "outputId": "e13c6f75-b531-49a7-f5e3-e688423c5268"
      },
      "outputs": [
        {
          "data": {
            "text/plain": [
              "(0, 533)"
            ]
          },
          "execution_count": 48,
          "metadata": {},
          "output_type": "execute_result"
        }
      ],
      "source": [
        "# NaN 값을 포함하는 행 제거\n",
        "df = df.dropna()\n",
        "df.shape"
      ]
    },
    {
      "cell_type": "code",
      "execution_count": 49,
      "metadata": {
        "id": "goSx4iBJmg16"
      },
      "outputs": [],
      "source": [
        "from imblearn.over_sampling import SMOTE\n",
        "from sklearn.model_selection import train_test_split, cross_val_score\n",
        "from sklearn.ensemble import RandomForestClassifier\n",
        "from sklearn.metrics import accuracy_score, classification_report\n",
        "from sklearn.impute import SimpleImputer\n",
        "\n",
        "# Create an imputer to replace NaN values with the median\n",
        "imputer = SimpleImputer(missing_values=np.nan, strategy='median')\n",
        "\n",
        "# SMOTE를 사용하여 오버샘플링\n",
        "# smote = SMOTE()\n",
        "# X_resampled, y_resampled = smote.fit_resample(X, y)\n",
        "X_resampled, y_resampled = X, y\n",
        "\n",
        "# 데이터를 학습 세트와 테스트 세트로 분할\n",
        "X_train, X_test, y_train, y_test = train_test_split(X_resampled, y_resampled, test_size=0.2, random_state=42)\n"
      ]
    },
    {
      "cell_type": "code",
      "execution_count": 50,
      "metadata": {
        "id": "gYEjy8TMr_Xj"
      },
      "outputs": [],
      "source": [
        "# X_resampled.shape # 2407-> 3798개로 증가했음을 알 수 있다."
      ]
    },
    {
      "cell_type": "code",
      "execution_count": 51,
      "metadata": {
        "colab": {
          "base_uri": "https://localhost:8080/",
          "height": 373
        },
        "id": "bTKs207fmoqo",
        "outputId": "029934f1-95a8-420d-b6d7-afdb121f43cc"
      },
      "outputs": [
        {
          "name": "stdout",
          "output_type": "stream",
          "text": [
            "Cross-validation scores: [0.87157058 0.80508946 0.76254473 0.77821074 0.76588469]\n",
            "Average CV score: 0.7966600397614314\n"
          ]
        }
      ],
      "source": [
        "# xgboost 모델 생성 및 학습\n",
        "model = XGBClassifier(n_estimators=120, max_depth=40, random_state=42)\n",
        "model.fit(X_train, y_train)\n",
        "\n",
        "# 교차 검증 수행\n",
        "cv_scores = cross_val_score(model, X_resampled, y_resampled, cv=5)\n",
        "print(\"Cross-validation scores:\", cv_scores)\n",
        "print(\"Average CV score:\", cv_scores.mean())"
      ]
    },
    {
      "cell_type": "code",
      "execution_count": 52,
      "metadata": {
        "id": "XCiTmZbcm2oB"
      },
      "outputs": [
        {
          "name": "stdout",
          "output_type": "stream",
          "text": [
            "xgb 모델 평가\n",
            "Accuracy: 0.8293\n",
            "Classification Report:\n",
            "              precision    recall  f1-score   support\n",
            "\n",
            "           0      0.835     0.902     0.867      7756\n",
            "           1      0.819     0.713     0.762      4819\n",
            "\n",
            "    accuracy                          0.829     12575\n",
            "   macro avg      0.827     0.807     0.814     12575\n",
            "weighted avg      0.829     0.829     0.827     12575\n",
            "\n"
          ]
        }
      ],
      "source": [
        "# 테스트 세트에 대한 모델 성능 평가\n",
        "predictions = model.predict(X_test)\n",
        "accuracy = accuracy_score(y_test, predictions)\n",
        "report = classification_report(y_test, predictions, digits=3)  # 여기서 digits 매개변수를 활용해 셋째 자리까지 나타낼 수 있어\n",
        "\n",
        "print(\"xgb 모델 평가\")\n",
        "print(f\"Accuracy: {accuracy:.4f}\")\n",
        "print(\"Classification Report:\")\n",
        "print(report)"
      ]
    },
    {
      "cell_type": "code",
      "execution_count": null,
      "metadata": {},
      "outputs": [],
      "source": [
        "y_pred = model.predict(X_test)\n",
        "cm = confusion_matrix(y_test, y_pred)\n",
        "# 시각화\n",
        "plt.figure(figsize=(6, 4))\n",
        "sns.heatmap(cm, annot=True, fmt=\"d\", cmap=\"Blues\", xticklabels=[\"Benign\", \"Malignant\"], yticklabels=[\"Benign\", \"Malignant\"])\n",
        "plt.xlabel(\"Predicted\")\n",
        "plt.ylabel(\"Actual\")\n",
        "plt.title(' Confusion Matrix')\n",
        "plt.show()"
      ]
    },
    {
      "cell_type": "code",
      "execution_count": 53,
      "metadata": {
        "id": "RaDqn0jHmw4v"
      },
      "outputs": [],
      "source": [
        "# 피처 중요도 계산 및 출력\n",
        "feature_importances = model.feature_importances_\n",
        "feature_names = X_resampled.columns\n",
        "importances_df = pd.DataFrame({'feature': feature_names, 'importance': feature_importances})\n",
        "importances_df = importances_df.sort_values('importance', ascending=False)\n"
      ]
    },
    {
      "cell_type": "code",
      "execution_count": 54,
      "metadata": {},
      "outputs": [
        {
          "name": "stdout",
          "output_type": "stream",
          "text": [
            "Top 50 Feature Importances:\n",
            "                      feature  importance\n",
            "124                 distutils    0.242443\n",
            "70           base64.b32decode    0.191566\n",
            "323                 os.system    0.061217\n",
            "403                    socket    0.035287\n",
            "59    asyncio.open_connection    0.028588\n",
            "478                 threading    0.027169\n",
            "131                      exec    0.027020\n",
            "116             ctypes.WinDLL    0.016446\n",
            "468              tarfile.open    0.013040\n",
            "529                      zlib    0.011811\n",
            "331                   pathlib    0.011642\n",
            "166                   imaplib    0.010355\n",
            "464                 sysconfig    0.009660\n",
            "405        socket.getaddrinfo    0.009500\n",
            "397                      site    0.008820\n",
            "274               os.getlogin    0.008708\n",
            "321              os.startfile    0.008422\n",
            "174                     input    0.007811\n",
            "71           base64.b64decode    0.007648\n",
            "134                   filecmp    0.007174\n",
            "130                      eval    0.006794\n",
            "95                    compile    0.006440\n",
            "439                       ssl    0.006393\n",
            "527           zipfile.ZipFile    0.005700\n",
            "191                   io.open    0.005164\n",
            "501           urllib2.urlopen    0.005106\n",
            "481                      time    0.005080\n",
            "303                 os.rename    0.005067\n",
            "195                      json    0.005022\n",
            "40                 __import__    0.005022\n",
            "291                  os.popen    0.004957\n",
            "306                  os.rmdir    0.004905\n",
            "368                     queue    0.004904\n",
            "383                    shutil    0.004842\n",
            "149                   getpass    0.004577\n",
            "123                       dir    0.004555\n",
            "447                subprocess    0.004358\n",
            "379                   setattr    0.004328\n",
            "151                      gzip    0.004212\n",
            "485                 traceback    0.003685\n",
            "404  socket.create_connection    0.003653\n",
            "68            atexit.register    0.003529\n",
            "277                 os.getpid    0.003494\n",
            "244                      open    0.003473\n",
            "449          subprocess.Popen    0.003434\n",
            "287                   os.open    0.003413\n",
            "459                       sys    0.003388\n",
            "486                    urllib    0.003375\n",
            "465                   tarfile    0.003338\n",
            "49                    asyncio    0.003269\n"
          ]
        }
      ],
      "source": [
        "\n",
        "print(\"Top 50 Feature Importances:\")\n",
        "print(importances_df.head(50))"
      ]
    },
    {
      "cell_type": "code",
      "execution_count": 55,
      "metadata": {
        "id": "iH4O0H8nnhlF"
      },
      "outputs": [
        {
          "data": {
            "image/png": "[encoded data removed]",
            "text/plain": [
              "<Figure size 1800x800 with 1 Axes>"
            ]
          },
          "metadata": {},
          "output_type": "display_data"
        }
      ],
      "source": [
        "# 한글 폰트 설정\n",
        "plt.rc('font', family='NanumBarunGothic')\n",
        "\n",
        "# 가정: feature_importances와 feature_names이 정의되어 있음\n",
        "# feature_importances = ...\n",
        "# feature_names = ...\n",
        "\n",
        "def split_long_words(s, n):\n",
        "    \"\"\"주어진 문자열 s를 길이 n마다 줄바꿈 문자를 삽입하여 반환\"\"\"\n",
        "    return '\\n'.join([s[i:i+n] for i in range(0, len(s), n)])\n",
        "\n",
        "# 상위 20개 특성 선택\n",
        "indices = np.argsort(feature_importances)[-20:]\n",
        "\n",
        "# 색상 맵 설정\n",
        "cmap = plt.cm.viridis  # 또는 plt.cm.tab20 등 다양한 colormap 사용 가능\n",
        "colors = cmap(np.linspace(0, 1, len(indices)))\n",
        "\n",
        "# 특성 이름을 지정된 길이마다 줄바꿈 처리\n",
        "max_length = 8\n",
        "split_feature_names = [split_long_words(feature_names[i], max_length) for i in indices]\n",
        "\n",
        "plt.figure(figsize=(18, 8))\n",
        "plt.title(f\"Decision Tree 모델의 특성 중요도\")\n",
        "plt.bar(range(len(indices)), feature_importances[indices], color=colors, align='center')\n",
        "plt.xticks(range(len(indices)), split_feature_names, rotation=45, ha='right')\n",
        "plt.xlabel('Importance')\n",
        "plt.ylabel('Features')\n",
        "plt.show()"
      ]
    },
    {
      "cell_type": "markdown",
      "metadata": {
        "id": "NeNhxd6ZqDwP"
      },
      "source": [
        "## **검증코드**"
      ]
    },
    {
      "cell_type": "code",
      "execution_count": 56,
      "metadata": {
        "colab": {
          "base_uri": "https://localhost:8080/",
          "height": 373
        },
        "id": "R-r8PjM6ouR9",
        "outputId": "445fa9ca-a565-45b9-d439-31b157753363"
      },
      "outputs": [],
      "source": [
        "import xgboost as xgb\n",
        "from sklearn.metrics import accuracy_score\n",
        "import pandas as pd\n",
        "\n",
        "# 검증을 위해 기존 데이터에서 500개를 분리하여 검증용 데이터로 저장시킴.\n",
        "\n",
        "\n",
        "# 검증용 데이터 분리\n",
        "validation_data = pd.read_csv('./preprocessed_data/pypi/pypi_ast_analysis_validation.csv') # 검증 데이터 csv명 추가하기.\n",
        "# validation_data.head()\n",
        "# print(validation_data.columns)\n",
        "# validation_labels = validation_data['Label']\n",
        "validation_FileName = validation_data['file name']\n",
        "validation_features = validation_data.drop(columns=['file name'])"
      ]
    },
    {
      "cell_type": "code",
      "execution_count": 57,
      "metadata": {
        "colab": {
          "base_uri": "https://localhost:8080/",
          "height": 147
        },
        "id": "UDFfcO5Vqrw4",
        "outputId": "2e643f7c-e73c-42c2-babe-9ef95b72efbc"
      },
      "outputs": [
        {
          "data": {
            "text/html": [
              "<div>\n",
              "<style scoped>\n",
              "    .dataframe tbody tr th:only-of-type {\n",
              "        vertical-align: middle;\n",
              "    }\n",
              "\n",
              "    .dataframe tbody tr th {\n",
              "        vertical-align: top;\n",
              "    }\n",
              "\n",
              "    .dataframe thead th {\n",
              "        text-align: right;\n",
              "    }\n",
              "</style>\n",
              "<table border=\"1\" class=\"dataframe\">\n",
              "  <thead>\n",
              "    <tr style=\"text-align: right;\">\n",
              "      <th></th>\n",
              "      <th>entropy</th>\n",
              "      <th>BaseHTTPServer.HTTPServer</th>\n",
              "      <th>DocXMLRPCServer.DocXMLRPCServer</th>\n",
              "      <th>FTP.retrbinary</th>\n",
              "      <th>FTP.retrlines</th>\n",
              "      <th>FTP.storbinary</th>\n",
              "      <th>FTP.storlines</th>\n",
              "      <th>HTTPConnection.request</th>\n",
              "      <th>HTTPConnection.send</th>\n",
              "      <th>IMAP4.send</th>\n",
              "      <th>...</th>\n",
              "      <th>xmlrpc.client.DateTime.encode</th>\n",
              "      <th>xmlrpc.client.ServerProxy</th>\n",
              "      <th>xmlrpc.server.DocXMLRPCServer</th>\n",
              "      <th>xmlrpc.server.SimpleXMLRPCServer</th>\n",
              "      <th>xmlrpclib.ServerProxy</th>\n",
              "      <th>zipapp</th>\n",
              "      <th>zipfile</th>\n",
              "      <th>zipfile.ZipFile</th>\n",
              "      <th>zipimport.zipimporter</th>\n",
              "      <th>zlib</th>\n",
              "    </tr>\n",
              "  </thead>\n",
              "  <tbody>\n",
              "    <tr>\n",
              "      <th>0</th>\n",
              "      <td>0.854227</td>\n",
              "      <td>0</td>\n",
              "      <td>0</td>\n",
              "      <td>0</td>\n",
              "      <td>0</td>\n",
              "      <td>0</td>\n",
              "      <td>0</td>\n",
              "      <td>0</td>\n",
              "      <td>0</td>\n",
              "      <td>0</td>\n",
              "      <td>...</td>\n",
              "      <td>0</td>\n",
              "      <td>0</td>\n",
              "      <td>0</td>\n",
              "      <td>0</td>\n",
              "      <td>0</td>\n",
              "      <td>0</td>\n",
              "      <td>0</td>\n",
              "      <td>0</td>\n",
              "      <td>0</td>\n",
              "      <td>0</td>\n",
              "    </tr>\n",
              "    <tr>\n",
              "      <th>1</th>\n",
              "      <td>0.690752</td>\n",
              "      <td>0</td>\n",
              "      <td>0</td>\n",
              "      <td>0</td>\n",
              "      <td>0</td>\n",
              "      <td>0</td>\n",
              "      <td>0</td>\n",
              "      <td>0</td>\n",
              "      <td>0</td>\n",
              "      <td>0</td>\n",
              "      <td>...</td>\n",
              "      <td>0</td>\n",
              "      <td>0</td>\n",
              "      <td>0</td>\n",
              "      <td>0</td>\n",
              "      <td>0</td>\n",
              "      <td>0</td>\n",
              "      <td>0</td>\n",
              "      <td>0</td>\n",
              "      <td>0</td>\n",
              "      <td>0</td>\n",
              "    </tr>\n",
              "    <tr>\n",
              "      <th>2</th>\n",
              "      <td>0.978496</td>\n",
              "      <td>0</td>\n",
              "      <td>0</td>\n",
              "      <td>0</td>\n",
              "      <td>0</td>\n",
              "      <td>0</td>\n",
              "      <td>0</td>\n",
              "      <td>0</td>\n",
              "      <td>0</td>\n",
              "      <td>0</td>\n",
              "      <td>...</td>\n",
              "      <td>0</td>\n",
              "      <td>0</td>\n",
              "      <td>0</td>\n",
              "      <td>0</td>\n",
              "      <td>0</td>\n",
              "      <td>0</td>\n",
              "      <td>0</td>\n",
              "      <td>0</td>\n",
              "      <td>0</td>\n",
              "      <td>0</td>\n",
              "    </tr>\n",
              "    <tr>\n",
              "      <th>3</th>\n",
              "      <td>0.750627</td>\n",
              "      <td>0</td>\n",
              "      <td>0</td>\n",
              "      <td>0</td>\n",
              "      <td>0</td>\n",
              "      <td>0</td>\n",
              "      <td>0</td>\n",
              "      <td>0</td>\n",
              "      <td>0</td>\n",
              "      <td>0</td>\n",
              "      <td>...</td>\n",
              "      <td>0</td>\n",
              "      <td>0</td>\n",
              "      <td>0</td>\n",
              "      <td>0</td>\n",
              "      <td>0</td>\n",
              "      <td>0</td>\n",
              "      <td>0</td>\n",
              "      <td>0</td>\n",
              "      <td>0</td>\n",
              "      <td>0</td>\n",
              "    </tr>\n",
              "    <tr>\n",
              "      <th>4</th>\n",
              "      <td>0.867007</td>\n",
              "      <td>0</td>\n",
              "      <td>0</td>\n",
              "      <td>0</td>\n",
              "      <td>0</td>\n",
              "      <td>0</td>\n",
              "      <td>0</td>\n",
              "      <td>0</td>\n",
              "      <td>0</td>\n",
              "      <td>0</td>\n",
              "      <td>...</td>\n",
              "      <td>0</td>\n",
              "      <td>0</td>\n",
              "      <td>0</td>\n",
              "      <td>0</td>\n",
              "      <td>0</td>\n",
              "      <td>0</td>\n",
              "      <td>0</td>\n",
              "      <td>0</td>\n",
              "      <td>0</td>\n",
              "      <td>0</td>\n",
              "    </tr>\n",
              "  </tbody>\n",
              "</table>\n",
              "<p>5 rows × 527 columns</p>\n",
              "</div>"
            ],
            "text/plain": [
              "    entropy  BaseHTTPServer.HTTPServer  DocXMLRPCServer.DocXMLRPCServer  \\\n",
              "0  0.854227                          0                                0   \n",
              "1  0.690752                          0                                0   \n",
              "2  0.978496                          0                                0   \n",
              "3  0.750627                          0                                0   \n",
              "4  0.867007                          0                                0   \n",
              "\n",
              "   FTP.retrbinary  FTP.retrlines  FTP.storbinary  FTP.storlines  \\\n",
              "0               0              0               0              0   \n",
              "1               0              0               0              0   \n",
              "2               0              0               0              0   \n",
              "3               0              0               0              0   \n",
              "4               0              0               0              0   \n",
              "\n",
              "   HTTPConnection.request  HTTPConnection.send  IMAP4.send  ...  \\\n",
              "0                       0                    0           0  ...   \n",
              "1                       0                    0           0  ...   \n",
              "2                       0                    0           0  ...   \n",
              "3                       0                    0           0  ...   \n",
              "4                       0                    0           0  ...   \n",
              "\n",
              "   xmlrpc.client.DateTime.encode  xmlrpc.client.ServerProxy  \\\n",
              "0                              0                          0   \n",
              "1                              0                          0   \n",
              "2                              0                          0   \n",
              "3                              0                          0   \n",
              "4                              0                          0   \n",
              "\n",
              "   xmlrpc.server.DocXMLRPCServer  xmlrpc.server.SimpleXMLRPCServer  \\\n",
              "0                              0                                 0   \n",
              "1                              0                                 0   \n",
              "2                              0                                 0   \n",
              "3                              0                                 0   \n",
              "4                              0                                 0   \n",
              "\n",
              "   xmlrpclib.ServerProxy  zipapp  zipfile  zipfile.ZipFile  \\\n",
              "0                      0       0        0                0   \n",
              "1                      0       0        0                0   \n",
              "2                      0       0        0                0   \n",
              "3                      0       0        0                0   \n",
              "4                      0       0        0                0   \n",
              "\n",
              "   zipimport.zipimporter  zlib  \n",
              "0                      0     0  \n",
              "1                      0     0  \n",
              "2                      0     0  \n",
              "3                      0     0  \n",
              "4                      0     0  \n",
              "\n",
              "[5 rows x 527 columns]"
            ]
          },
          "execution_count": 57,
          "metadata": {},
          "output_type": "execute_result"
        }
      ],
      "source": [
        "validation_features.head()"
      ]
    },
    {
      "cell_type": "code",
      "execution_count": 58,
      "metadata": {
        "id": "MObPyFUqqtR_"
      },
      "outputs": [
        {
          "ename": "ValueError",
          "evalue": "feature_names mismatch: ['entropy', 'function_count', 'average_cc', 'class_count', 'BaseHTTPServer.HTTPServer', 'DocXMLRPCServer.DocXMLRPCServer', 'FTP.retrbinary', 'FTP.retrlines', 'FTP.storbinary', 'FTP.storlines', 'HTTPConnection.request', 'HTTPConnection.send', 'IMAP4.send', 'MySQLCursor.fetchall', 'MySQLCursor.fetchmany', 'MySQLCursor.fetchone', 'NNTP.post', 'POP3.retr', 'Packer.pack_array', 'Packer.pack_bytes', 'Packer.pack_double', 'Packer.pack_farray', 'Packer.pack_float', 'Packer.pack_fopaque', 'Packer.pack_fstring', 'Packer.pack_list', 'Packer.pack_string', 'SMTP.send_message, rcpt_options=)', 'SMTP.sendmail, rcpt_options=)', 'SSLSocket.read', 'SSLSocket.write', 'SimpleXMLRPCServer.SimpleXMLRPCServer', 'SocketServer.BaseServer', 'SocketServer.TCPServer', 'SocketServer.UDPServer', 'SocketServer.UnixDatagramServer', 'SocketServer.UnixStreamServer', 'Telnet.write', 'ZipFile.read', 'ZipFile.write', '__import__', '_dummy_thread', '_thread', '_winreg.ConnectRegistry', 'aifc', 'aifc.open', 'anydbm.open', 'asynchat', 'asynchat.async_chat', 'asyncio', 'asyncio.StreamReader.read', 'asyncio.StreamReader.readexactly', 'asyncio.StreamReader.readline', 'asyncio.StreamReader.readuntil', 'asyncio.StreamWriter.write', 'asyncio.StreamWriter.write_eof', 'asyncio.StreamWriter.writelines', 'asyncio.create_subprocess_exec', 'asyncio.create_subprocess_shell', 'asyncio.open_connection', 'asyncio.open_unix_connection', 'asyncio.start_server', 'asyncio.start_unix_server', 'asyncore', 'asyncore.dispatcher', 'asyncore.dispatcher.recv', 'asyncore.dispatcher.send', 'asyncore.dispatcher_with_send', 'atexit.register', 'base64.b16decode', 'base64.b32decode', 'base64.b64decode', 'base64.decode', 'base64.decodestring', 'base64.standard_b64decode', 'base64.urlsafe_b64decode', 'bsddb.btopen', 'bsddb.hashopen', 'bsddb.rnopen', 'bz2', 'bz2.BZ2File', 'cgi', 'cgitb', 'chunk', 'class csv.DictReader', 'code.InteractiveConsole', 'code.InteractiveInterpreter', 'code.compile_command', 'code.interact', 'codeop.CommandCompiler', 'codeop.Compile', 'codeop.compile_command', 'commands.getoutput', 'commands.getstatus', 'commands.getstatusoutput', 'compile', 'compileall.compile_dir', 'compileall.compile_file', 'compileall.compile_path', 'compile¶', 'concurrent', 'concurrent.futures.Executor', 'concurrent.futures.Future', 'concurrent.futures.ProcessPoolExecutor', 'concurrent.futures.ThreadPoolExecutor', 'configparser', 'cookielib.FileCookieJar', 'cookielib.LWPCookieJar', 'cookielib.MozillaCookieJar', 'copyreg', 'csv', 'csv.reader', 'ctypes', 'ctypes.CDLL', 'ctypes.OleDLL', 'ctypes.PyDLL', 'ctypes.WinDLL', 'curses', 'dbhash.open', 'dbm', 'dbm.open', 'debugging', 'delattr', 'dir', 'distutils', 'dl.open', 'dumbdbm.open', 'dummy_threading', 'email', 'ensurepip', 'eval', 'exec', 'execfile', 'file', 'filecmp', 'filecmp.cmp', 'filecmp.cmpfiles', 'filecmp.dircmp', 'fileinput', 'fileinput.FileInput', 'fileinput.input', 'findertools.copy', 'findertools.move', 'fnmatch', 'ftplib', 'ftplib.FTP', 'ftplib.FTP_TLS', 'gdbm.open', 'getattr', 'getpass', 'glob', 'gzip', 'gzip.GzipFile', 'gzip.open', 'hashlib', 'hmac', 'http', 'http.client.HTTPConnection', 'http.client.HTTPSConnection', 'http.cookiejar.FileCookieJar', 'http.cookiejar.LWPCookieJar', 'http.cookiejar.MozillaCookieJar', 'http.server.HTTPServer', 'http.server.ThreadingHTTPServer', 'httplib.HTTPConnection', 'httplib.HTTPSConnection', 'imaplib', 'imaplib.IMAP4', 'imaplib.IMAP4_SSL', 'imaplib.IMAP4_stream', 'imp.load_compiled', 'imp.load_dynamic', 'imp.load_module', 'importlib.import_module', 'input', 'io.BufferedIOBase.write', 'io.BufferedRWPair', 'io.BufferedRandom', 'io.BufferedWriter', 'io.BytesIO', 'io.FileIO', 'io.IOBase', 'io.IOBase.readline', 'io.IOBase.readlines', 'io.IOBase.writelines', 'io.RawIOBase', 'io.RawIOBase.write', 'io.StringIO', 'io.TextIOBase', 'io.TextIOBase.write', 'io.TextIOWrapper', 'io.open', 'ipaddress', 'ipaddress.IPv4Network', 'ipaddress.IPv6Network', 'json', 'linecache', 'linecache.getline', 'lzma', 'lzma.LZMAFile', 'lzma.open', 'macostools.copy', 'macostools.copytree', 'macostools.mkalias', 'macpath', 'mailbox', 'mailbox.Babyl', 'mailbox.MH', 'mailbox.MMDF', 'mailbox.Mailbox', 'mailbox.Maildir', 'mailbox.mbox', 'mailcap', 'marshal', 'marshal.dump', 'marshal.load', 'memoryview', 'mimetypes', 'mimetypes.MimeTypes.read', 'mimetypes.MimeTypes.read_mime_types', 'mimetypes.MimeTypes.read_windows_registry', 'mimetypes.MimeTypes.readfp', 'mmap', 'modulefinder.AddPackagePath', 'modulefinder.ReplacePackage', 'msilib', 'msvcrt', 'multiprocessing', 'multiprocessing.Manager', 'multiprocessing.Pool', 'multiprocessing.Process', 'multiprocessing.Process.run', 'multiprocessing.connection.Connection', 'multiprocessing.connection.Connection.recv', 'multiprocessing.connection.Connection.recv_bytes', 'multiprocessing.connection.Connection.recv_bytes_into', 'multiprocessing.connection.Connection.send', 'multiprocessing.connection.Connection.send_bytes', 'multiprocessing.managers.BaseManager', 'multiprocessing.managers.SyncManager', 'multiprocessing.pool.Pool', 'netrc', 'nntplib', 'nntplib.NNTP', 'open', 'os.SCHED', 'os._exit', 'os.abort', 'os.access', 'os.chdir', 'os.conf', 'os.ctermid', 'os.environ', 'os.environb', 'os.execl', 'os.execle', 'os.execlp', 'os.execlpe', 'os.execv', 'os.execve', 'os.execvp', 'os.execvpe', 'os.fchdir', 'os.fchown', 'os.fdopen', 'os.fork', 'os.forkpty', 'os.fspath', 'os.get_exec_path', 'os.getcwd', 'os.getegid', 'os.geteuid', 'os.getgid', 'os.getgrouplist', 'os.getlogin', 'os.getpgid', 'os.getpgrp', 'os.getpid', 'os.getppid', 'os.getresgid', 'os.getresuid', 'os.getuid', 'os.kill', 'os.killpg', 'os.link', 'os.mkdir', 'os.name', 'os.open', 'os.openpty', 'os.path', 'os.pipe', 'os.popen', 'os.popen2', 'os.popen3', 'os.popen4', 'os.pread', 'os.preadv', 'os.pwrite', 'os.pwritev', 'os.read', 'os.register_at_fork', 'os.remove', 'os.removedirs', 'os.rename', 'os.renames', 'os.replace', 'os.rmdir', 'os.sched', 'os.sendfile', 'os.setegid', 'os.seteuid', 'os.setgid', 'os.setuid', 'os.spawnl', 'os.spawnle', 'os.spawnlp', 'os.spawnlpe', 'os.spawnv', 'os.spawnve', 'os.spawnvp', 'os.spawnvpe', 'os.startfile', 'os.sysconf', 'os.system', 'os.unlink', 'os.wait', 'os.write', 'os.writev', 'ossaudiodev.open', 'parser.expr', 'parser.suite', 'pathlib', 'pathlib.Path.rename', 'pathlib.Path.replace', 'pathlib.Path.rmdir', 'pathlib.Path.unlink', 'pickle', 'pickle.dump', 'pickle.load', 'pickle.loads', 'pipes.Template', 'pkgutil.ImpImporter', 'pkgutil.ImpLoader', 'pkgutil.find_loader', 'pkgutil.get_importer', 'pkgutil.get_loader', 'platform', 'plistlib', 'plistlib.readPlist', 'plistlib.readPlistFromResource', 'plistlib.writePlist', 'plistlib.writePlistToResource', 'popen2.Popen3', 'popen2.Popen4', 'popen2.popen2', 'popen2.popen3', 'popen2.popen4', 'poplib', 'poplib.POP3', 'poplib.POP3_SSL', 'pty.fork', 'pty.openpty', 'pty.spawn', 'pwd.getpwall', 'pwd.getpwnam', 'pwd.getpwuid', 'py_compile.compile', 'py_compile.main', 'queue', 'quopri', 'raw_input', 'robotparser.RobotFileParser.read', 'runpy', 'runpy.run_module', 'runpy.run_path', 'sched', 'secrets', 'select', 'selectors', 'setattr', 'shelve', 'shelve.DbfilenameShelf', 'shelve.open', 'shutil', 'shutil.copy', 'shutil.copy2', 'shutil.copyfile', 'shutil.copyfileobj', 'shutil.copytree', 'shutil.make_archive', 'shutil.move', 'shutil.rmtree', 'signal', 'signal.alarm', 'signal.pause', 'signal.siginterrupt', 'signal.signal', 'site', 'smtpd', 'smtplib', 'smtplib.LMTP', 'smtplib.SMTP', 'smtplib.SMTP_SSL', 'socket', 'socket.create_connection', 'socket.getaddrinfo', 'socket.gethostbyname', 'socket.gethostname', 'socket.recv', 'socket.recv_into', 'socket.recvfrom', 'socket.recvfrom_into', 'socket.recvmsg', 'socket.recvmsg_into', 'socket.send', 'socket.sendall', 'socket.sendfile', 'socket.sendmsg', 'socket.sendmsg_afalg', 'socket.sendto', 'socket.socket', 'socket.socketpair', 'socketserver', 'socketserver.BaseServer', 'socketserver.ForkingTCPServer', 'socketserver.ForkingUDPServer', 'socketserver.TCPServer', 'socketserver.ThreadingTCPServer', 'socketserver.ThreadingUDPServer', 'socketserver.UDPServer', 'socketserver.UnixDatagramServer', 'socketserver.UnixStreamServer', 'spwd.getspall', 'spwd.getspnam', 'sqlite3', 'sqlite3.Connection.execute', 'sqlite3.Connection.executemany', 'sqlite3.Connection.executescript', 'sqlite3.connect', 'ssl', 'ssl.SSLSocket', 'ssl.SSLSocket.read', 'ssl.SSLSocket.send', 'ssl.SSLSocket.sendall', 'ssl.SSLSocket.sendfile', 'ssl.SSLSocket.write', 'stat', 'subprocess', 'subprocess security', 'subprocess.Popen', 'subprocess.call', 'subprocess.check_call', 'subprocess.check_output', 'subprocess.getoutput', 'subprocess.getstatusoutput', 'subprocess.run', 'sunau', 'sunau.open', 'sunau.openfp', 'sys', 'sys.exit', 'sys.exitfunc', 'sys.setprofile', 'sys.settrace', 'sysconfig', 'tarfile', 'tarfile.TarFile', 'tarfile.TarFileCompat', 'tarfile.open', 'telnetlib', 'telnetlib.Telnet', 'tempfile', 'tempfile.NamedTemporaryFile', 'tempfile.SpooledTemporaryFile', 'tempfile.TemporaryFile', 'tempfile.mkdtemp', 'tempfile.mkstemp', 'test', 'threading', 'threading.Thread', 'threading.Thread.run', 'time', 'time.set', 'time.sleep', 'tkinter', 'traceback', 'urllib', 'urllib.FancyURLopener', 'urllib.URLopener', 'urllib.request.FancyURLopener', 'urllib.request.URLopener', 'urllib.request.build_opener', 'urllib.request.urlopen', 'urllib.urlopen', 'urllib.urlretrieve', 'urllib2.FTPHandler.ftp_open', 'urllib2.FileHandler.file_open', 'urllib2.HTTPHandler.http_open', 'urllib2.HTTPSHandler.https_open', 'urllib2.OpenerDirector.open', 'urllib2.Request', 'urllib2.urlopen', 'uuid', 'venv', 'wave', 'wave.open', 'wave.openfp', 'webbrower.open', 'webbrower.open_new', 'webbrower.open_new_tab', 'webbrowser', 'win32com', 'winreg.ConnectRegistry', 'wsgiref', 'wsgiref.simple_server.WSGIServer', 'wsgiref.simple_server.make_server', 'xdrlib', 'xml', 'xmlrpc', 'xmlrpc.client.Binary.encode', 'xmlrpc.client.DateTime.encode', 'xmlrpc.client.ServerProxy', 'xmlrpc.server.DocXMLRPCServer', 'xmlrpc.server.SimpleXMLRPCServer', 'xmlrpclib.ServerProxy', 'zipapp', 'zipfile', 'zipfile.ZipFile', 'zipimport.zipimporter', 'zlib'] ['entropy', 'BaseHTTPServer.HTTPServer', 'DocXMLRPCServer.DocXMLRPCServer', 'FTP.retrbinary', 'FTP.retrlines', 'FTP.storbinary', 'FTP.storlines', 'HTTPConnection.request', 'HTTPConnection.send', 'IMAP4.send', 'MySQLCursor.fetchall', 'MySQLCursor.fetchmany', 'MySQLCursor.fetchone', 'NNTP.post', 'POP3.retr', 'Packer.pack_array', 'Packer.pack_bytes', 'Packer.pack_double', 'Packer.pack_farray', 'Packer.pack_float', 'Packer.pack_fopaque', 'Packer.pack_fstring', 'Packer.pack_list', 'Packer.pack_string', 'SMTP.send_message, rcpt_options=)', 'SMTP.sendmail, rcpt_options=)', 'SSLSocket.read', 'SSLSocket.write', 'SimpleXMLRPCServer.SimpleXMLRPCServer', 'SocketServer.BaseServer', 'SocketServer.TCPServer', 'SocketServer.UDPServer', 'SocketServer.UnixDatagramServer', 'SocketServer.UnixStreamServer', 'Telnet.write', 'ZipFile.read', 'ZipFile.write', '__import__', '_dummy_thread', '_thread', '_winreg.ConnectRegistry', 'aifc', 'aifc.open', 'anydbm.open', 'asynchat', 'asynchat.async_chat', 'asyncio', 'asyncio.StreamReader.read', 'asyncio.StreamReader.readexactly', 'asyncio.StreamReader.readline', 'asyncio.StreamReader.readuntil', 'asyncio.StreamWriter.write', 'asyncio.StreamWriter.write_eof', 'asyncio.StreamWriter.writelines', 'asyncio.create_subprocess_exec', 'asyncio.create_subprocess_shell', 'asyncio.open_connection', 'asyncio.open_unix_connection', 'asyncio.start_server', 'asyncio.start_unix_server', 'asyncore', 'asyncore.dispatcher', 'asyncore.dispatcher.recv', 'asyncore.dispatcher.send', 'asyncore.dispatcher_with_send', 'atexit.register', 'base64.b16decode', 'base64.b32decode', 'base64.b64decode', 'base64.decode', 'base64.decodestring', 'base64.standard_b64decode', 'base64.urlsafe_b64decode', 'bsddb.btopen', 'bsddb.hashopen', 'bsddb.rnopen', 'bz2', 'bz2.BZ2File', 'cgi', 'cgitb', 'chunk', 'class csv.DictReader', 'code.InteractiveConsole', 'code.InteractiveInterpreter', 'code.compile_command', 'code.interact', 'codeop.CommandCompiler', 'codeop.Compile', 'codeop.compile_command', 'commands.getoutput', 'commands.getstatus', 'commands.getstatusoutput', 'compile', 'compileall.compile_dir', 'compileall.compile_file', 'compileall.compile_path', 'compile¶', 'concurrent', 'concurrent.futures.Executor', 'concurrent.futures.Future', 'concurrent.futures.ProcessPoolExecutor', 'concurrent.futures.ThreadPoolExecutor', 'configparser', 'cookielib.FileCookieJar', 'cookielib.LWPCookieJar', 'cookielib.MozillaCookieJar', 'copyreg', 'csv', 'csv.reader', 'ctypes', 'ctypes.CDLL', 'ctypes.OleDLL', 'ctypes.PyDLL', 'ctypes.WinDLL', 'curses', 'dbhash.open', 'dbm', 'dbm.open', 'debugging', 'delattr', 'dir', 'distutils', 'dl.open', 'dumbdbm.open', 'dummy_threading', 'email', 'ensurepip', 'eval', 'exec', 'execfile', 'file', 'filecmp', 'filecmp.cmp', 'filecmp.cmpfiles', 'filecmp.dircmp', 'fileinput', 'fileinput.FileInput', 'fileinput.input', 'findertools.copy', 'findertools.move', 'fnmatch', 'ftplib', 'ftplib.FTP', 'ftplib.FTP_TLS', 'gdbm.open', 'getattr', 'getpass', 'glob', 'gzip', 'gzip.GzipFile', 'gzip.open', 'hashlib', 'hmac', 'http', 'http.client.HTTPConnection', 'http.client.HTTPSConnection', 'http.cookiejar.FileCookieJar', 'http.cookiejar.LWPCookieJar', 'http.cookiejar.MozillaCookieJar', 'http.server.HTTPServer', 'http.server.ThreadingHTTPServer', 'httplib.HTTPConnection', 'httplib.HTTPSConnection', 'imaplib', 'imaplib.IMAP4', 'imaplib.IMAP4_SSL', 'imaplib.IMAP4_stream', 'imp.load_compiled', 'imp.load_dynamic', 'imp.load_module', 'importlib.import_module', 'input', 'io.BufferedIOBase.write', 'io.BufferedRWPair', 'io.BufferedRandom', 'io.BufferedWriter', 'io.BytesIO', 'io.FileIO', 'io.IOBase', 'io.IOBase.readline', 'io.IOBase.readlines', 'io.IOBase.writelines', 'io.RawIOBase', 'io.RawIOBase.write', 'io.StringIO', 'io.TextIOBase', 'io.TextIOBase.write', 'io.TextIOWrapper', 'io.open', 'ipaddress', 'ipaddress.IPv4Network', 'ipaddress.IPv6Network', 'json', 'linecache', 'linecache.getline', 'lzma', 'lzma.LZMAFile', 'lzma.open', 'macostools.copy', 'macostools.copytree', 'macostools.mkalias', 'macpath', 'mailbox', 'mailbox.Babyl', 'mailbox.MH', 'mailbox.MMDF', 'mailbox.Mailbox', 'mailbox.Maildir', 'mailbox.mbox', 'mailcap', 'marshal', 'marshal.dump', 'marshal.load', 'memoryview', 'mimetypes', 'mimetypes.MimeTypes.read', 'mimetypes.MimeTypes.read_mime_types', 'mimetypes.MimeTypes.read_windows_registry', 'mimetypes.MimeTypes.readfp', 'mmap', 'modulefinder.AddPackagePath', 'modulefinder.ReplacePackage', 'msilib', 'msvcrt', 'multiprocessing', 'multiprocessing.Manager', 'multiprocessing.Pool', 'multiprocessing.Process', 'multiprocessing.Process.run', 'multiprocessing.connection.Connection', 'multiprocessing.connection.Connection.recv', 'multiprocessing.connection.Connection.recv_bytes', 'multiprocessing.connection.Connection.recv_bytes_into', 'multiprocessing.connection.Connection.send', 'multiprocessing.connection.Connection.send_bytes', 'multiprocessing.managers.BaseManager', 'multiprocessing.managers.SyncManager', 'multiprocessing.pool.Pool', 'netrc', 'nntplib', 'nntplib.NNTP', 'open', 'os.SCHED', 'os._exit', 'os.abort', 'os.access', 'os.chdir', 'os.conf', 'os.ctermid', 'os.environ', 'os.environb', 'os.execl', 'os.execle', 'os.execlp', 'os.execlpe', 'os.execv', 'os.execve', 'os.execvp', 'os.execvpe', 'os.fchdir', 'os.fchown', 'os.fdopen', 'os.fork', 'os.forkpty', 'os.fspath', 'os.get_exec_path', 'os.getcwd', 'os.getegid', 'os.geteuid', 'os.getgid', 'os.getgrouplist', 'os.getlogin', 'os.getpgid', 'os.getpgrp', 'os.getpid', 'os.getppid', 'os.getresgid', 'os.getresuid', 'os.getuid', 'os.kill', 'os.killpg', 'os.link', 'os.mkdir', 'os.name', 'os.open', 'os.openpty', 'os.path', 'os.pipe', 'os.popen', 'os.popen2', 'os.popen3', 'os.popen4', 'os.pread', 'os.preadv', 'os.pwrite', 'os.pwritev', 'os.read', 'os.register_at_fork', 'os.remove', 'os.removedirs', 'os.rename', 'os.renames', 'os.replace', 'os.rmdir', 'os.sched', 'os.sendfile', 'os.setegid', 'os.seteuid', 'os.setgid', 'os.setuid', 'os.spawnl', 'os.spawnle', 'os.spawnlp', 'os.spawnlpe', 'os.spawnv', 'os.spawnve', 'os.spawnvp', 'os.spawnvpe', 'os.startfile', 'os.sysconf', 'os.system', 'os.unlink', 'os.wait', 'os.write', 'os.writev', 'ossaudiodev.open', 'parser.expr', 'parser.suite', 'pathlib', 'pathlib.Path.rename', 'pathlib.Path.replace', 'pathlib.Path.rmdir', 'pathlib.Path.unlink', 'pickle', 'pickle.dump', 'pickle.load', 'pickle.loads', 'pipes.Template', 'pkgutil.ImpImporter', 'pkgutil.ImpLoader', 'pkgutil.find_loader', 'pkgutil.get_importer', 'pkgutil.get_loader', 'platform', 'plistlib', 'plistlib.readPlist', 'plistlib.readPlistFromResource', 'plistlib.writePlist', 'plistlib.writePlistToResource', 'popen2.Popen3', 'popen2.Popen4', 'popen2.popen2', 'popen2.popen3', 'popen2.popen4', 'poplib', 'poplib.POP3', 'poplib.POP3_SSL', 'pty.fork', 'pty.openpty', 'pty.spawn', 'pwd.getpwall', 'pwd.getpwnam', 'pwd.getpwuid', 'py_compile.compile', 'py_compile.main', 'queue', 'quopri', 'raw_input', 'robotparser.RobotFileParser.read', 'runpy', 'runpy.run_module', 'runpy.run_path', 'sched', 'secrets', 'select', 'selectors', 'setattr', 'shelve', 'shelve.DbfilenameShelf', 'shelve.open', 'shutil', 'shutil.copy', 'shutil.copy2', 'shutil.copyfile', 'shutil.copyfileobj', 'shutil.copytree', 'shutil.make_archive', 'shutil.move', 'shutil.rmtree', 'signal', 'signal.alarm', 'signal.pause', 'signal.siginterrupt', 'signal.signal', 'site', 'smtpd', 'smtplib', 'smtplib.LMTP', 'smtplib.SMTP', 'smtplib.SMTP_SSL', 'socket', 'socket.create_connection', 'socket.getaddrinfo', 'socket.gethostbyname', 'socket.gethostname', 'socket.recv', 'socket.recv_into', 'socket.recvfrom', 'socket.recvfrom_into', 'socket.recvmsg', 'socket.recvmsg_into', 'socket.send', 'socket.sendall', 'socket.sendfile', 'socket.sendmsg', 'socket.sendmsg_afalg', 'socket.sendto', 'socket.socket', 'socket.socketpair', 'socketserver', 'socketserver.BaseServer', 'socketserver.ForkingTCPServer', 'socketserver.ForkingUDPServer', 'socketserver.TCPServer', 'socketserver.ThreadingTCPServer', 'socketserver.ThreadingUDPServer', 'socketserver.UDPServer', 'socketserver.UnixDatagramServer', 'socketserver.UnixStreamServer', 'spwd.getspall', 'spwd.getspnam', 'sqlite3', 'sqlite3.Connection.execute', 'sqlite3.Connection.executemany', 'sqlite3.Connection.executescript', 'sqlite3.connect', 'ssl', 'ssl.SSLSocket', 'ssl.SSLSocket.read', 'ssl.SSLSocket.send', 'ssl.SSLSocket.sendall', 'ssl.SSLSocket.sendfile', 'ssl.SSLSocket.write', 'stat', 'subprocess', 'subprocess security', 'subprocess.Popen', 'subprocess.call', 'subprocess.check_call', 'subprocess.check_output', 'subprocess.getoutput', 'subprocess.getstatusoutput', 'subprocess.run', 'sunau', 'sunau.open', 'sunau.openfp', 'sys', 'sys.exit', 'sys.exitfunc', 'sys.setprofile', 'sys.settrace', 'sysconfig', 'tarfile', 'tarfile.TarFile', 'tarfile.TarFileCompat', 'tarfile.open', 'telnetlib', 'telnetlib.Telnet', 'tempfile', 'tempfile.NamedTemporaryFile', 'tempfile.SpooledTemporaryFile', 'tempfile.TemporaryFile', 'tempfile.mkdtemp', 'tempfile.mkstemp', 'test', 'threading', 'threading.Thread', 'threading.Thread.run', 'time', 'time.set', 'time.sleep', 'tkinter', 'traceback', 'urllib', 'urllib.FancyURLopener', 'urllib.URLopener', 'urllib.request.FancyURLopener', 'urllib.request.URLopener', 'urllib.request.build_opener', 'urllib.request.urlopen', 'urllib.urlopen', 'urllib.urlretrieve', 'urllib2.FTPHandler.ftp_open', 'urllib2.FileHandler.file_open', 'urllib2.HTTPHandler.http_open', 'urllib2.HTTPSHandler.https_open', 'urllib2.OpenerDirector.open', 'urllib2.Request', 'urllib2.urlopen', 'uuid', 'venv', 'wave', 'wave.open', 'wave.openfp', 'webbrower.open', 'webbrower.open_new', 'webbrower.open_new_tab', 'webbrowser', 'win32com', 'winreg.ConnectRegistry', 'wsgiref', 'wsgiref.simple_server.WSGIServer', 'wsgiref.simple_server.make_server', 'xdrlib', 'xml', 'xmlrpc', 'xmlrpc.client.Binary.encode', 'xmlrpc.client.DateTime.encode', 'xmlrpc.client.ServerProxy', 'xmlrpc.server.DocXMLRPCServer', 'xmlrpc.server.SimpleXMLRPCServer', 'xmlrpclib.ServerProxy', 'zipapp', 'zipfile', 'zipfile.ZipFile', 'zipimport.zipimporter', 'zlib']\nexpected function_count, class_count, average_cc in input data",
          "output_type": "error",
          "traceback": [
            "\u001b[0;31m---------------------------------------------------------------------------\u001b[0m",
            "\u001b[0;31mValueError\u001b[0m                                Traceback (most recent call last)",
            "Cell \u001b[0;32mIn[58], line 2\u001b[0m\n\u001b[1;32m      1\u001b[0m \u001b[38;5;66;03m# 검증 데이터에 대한 악성 확률 예측\u001b[39;00m\n\u001b[0;32m----> 2\u001b[0m y_pred_prob \u001b[38;5;241m=\u001b[39m \u001b[43mmodel\u001b[49m\u001b[38;5;241;43m.\u001b[39;49m\u001b[43mpredict_proba\u001b[49m\u001b[43m(\u001b[49m\u001b[43mvalidation_features\u001b[49m\u001b[43m)\u001b[49m[:, \u001b[38;5;241m1\u001b[39m]\n\u001b[1;32m      3\u001b[0m \u001b[38;5;66;03m# 결과 출력\u001b[39;00m\n\u001b[1;32m      4\u001b[0m \u001b[38;5;28;01mfor\u001b[39;00m i, prob \u001b[38;5;129;01min\u001b[39;00m \u001b[38;5;28menumerate\u001b[39m(y_pred_prob):\n",
            "File \u001b[0;32m~/.local/lib/python3.8/site-packages/xgboost/sklearn.py:1644\u001b[0m, in \u001b[0;36mXGBClassifier.predict_proba\u001b[0;34m(self, X, validate_features, base_margin, iteration_range)\u001b[0m\n\u001b[1;32m   1642\u001b[0m     class_prob \u001b[38;5;241m=\u001b[39m softmax(raw_predt, axis\u001b[38;5;241m=\u001b[39m\u001b[38;5;241m1\u001b[39m)\n\u001b[1;32m   1643\u001b[0m     \u001b[38;5;28;01mreturn\u001b[39;00m class_prob\n\u001b[0;32m-> 1644\u001b[0m class_probs \u001b[38;5;241m=\u001b[39m \u001b[38;5;28;43msuper\u001b[39;49m\u001b[43m(\u001b[49m\u001b[43m)\u001b[49m\u001b[38;5;241;43m.\u001b[39;49m\u001b[43mpredict\u001b[49m\u001b[43m(\u001b[49m\n\u001b[1;32m   1645\u001b[0m \u001b[43m    \u001b[49m\u001b[43mX\u001b[49m\u001b[38;5;241;43m=\u001b[39;49m\u001b[43mX\u001b[49m\u001b[43m,\u001b[49m\n\u001b[1;32m   1646\u001b[0m \u001b[43m    \u001b[49m\u001b[43mvalidate_features\u001b[49m\u001b[38;5;241;43m=\u001b[39;49m\u001b[43mvalidate_features\u001b[49m\u001b[43m,\u001b[49m\n\u001b[1;32m   1647\u001b[0m \u001b[43m    \u001b[49m\u001b[43mbase_margin\u001b[49m\u001b[38;5;241;43m=\u001b[39;49m\u001b[43mbase_margin\u001b[49m\u001b[43m,\u001b[49m\n\u001b[1;32m   1648\u001b[0m \u001b[43m    \u001b[49m\u001b[43miteration_range\u001b[49m\u001b[38;5;241;43m=\u001b[39;49m\u001b[43miteration_range\u001b[49m\u001b[43m,\u001b[49m\n\u001b[1;32m   1649\u001b[0m \u001b[43m\u001b[49m\u001b[43m)\u001b[49m\n\u001b[1;32m   1650\u001b[0m \u001b[38;5;28;01mreturn\u001b[39;00m _cls_predict_proba(\u001b[38;5;28mself\u001b[39m\u001b[38;5;241m.\u001b[39mn_classes_, class_probs, np\u001b[38;5;241m.\u001b[39mvstack)\n",
            "File \u001b[0;32m~/.local/lib/python3.8/site-packages/xgboost/sklearn.py:1186\u001b[0m, in \u001b[0;36mXGBModel.predict\u001b[0;34m(self, X, output_margin, validate_features, base_margin, iteration_range)\u001b[0m\n\u001b[1;32m   1184\u001b[0m \u001b[38;5;28;01mif\u001b[39;00m \u001b[38;5;28mself\u001b[39m\u001b[38;5;241m.\u001b[39m_can_use_inplace_predict():\n\u001b[1;32m   1185\u001b[0m     \u001b[38;5;28;01mtry\u001b[39;00m:\n\u001b[0;32m-> 1186\u001b[0m         predts \u001b[38;5;241m=\u001b[39m \u001b[38;5;28;43mself\u001b[39;49m\u001b[38;5;241;43m.\u001b[39;49m\u001b[43mget_booster\u001b[49m\u001b[43m(\u001b[49m\u001b[43m)\u001b[49m\u001b[38;5;241;43m.\u001b[39;49m\u001b[43minplace_predict\u001b[49m\u001b[43m(\u001b[49m\n\u001b[1;32m   1187\u001b[0m \u001b[43m            \u001b[49m\u001b[43mdata\u001b[49m\u001b[38;5;241;43m=\u001b[39;49m\u001b[43mX\u001b[49m\u001b[43m,\u001b[49m\n\u001b[1;32m   1188\u001b[0m \u001b[43m            \u001b[49m\u001b[43miteration_range\u001b[49m\u001b[38;5;241;43m=\u001b[39;49m\u001b[43miteration_range\u001b[49m\u001b[43m,\u001b[49m\n\u001b[1;32m   1189\u001b[0m \u001b[43m            \u001b[49m\u001b[43mpredict_type\u001b[49m\u001b[38;5;241;43m=\u001b[39;49m\u001b[38;5;124;43m\"\u001b[39;49m\u001b[38;5;124;43mmargin\u001b[39;49m\u001b[38;5;124;43m\"\u001b[39;49m\u001b[43m \u001b[49m\u001b[38;5;28;43;01mif\u001b[39;49;00m\u001b[43m \u001b[49m\u001b[43moutput_margin\u001b[49m\u001b[43m \u001b[49m\u001b[38;5;28;43;01melse\u001b[39;49;00m\u001b[43m \u001b[49m\u001b[38;5;124;43m\"\u001b[39;49m\u001b[38;5;124;43mvalue\u001b[39;49m\u001b[38;5;124;43m\"\u001b[39;49m\u001b[43m,\u001b[49m\n\u001b[1;32m   1190\u001b[0m \u001b[43m            \u001b[49m\u001b[43mmissing\u001b[49m\u001b[38;5;241;43m=\u001b[39;49m\u001b[38;5;28;43mself\u001b[39;49m\u001b[38;5;241;43m.\u001b[39;49m\u001b[43mmissing\u001b[49m\u001b[43m,\u001b[49m\n\u001b[1;32m   1191\u001b[0m \u001b[43m            \u001b[49m\u001b[43mbase_margin\u001b[49m\u001b[38;5;241;43m=\u001b[39;49m\u001b[43mbase_margin\u001b[49m\u001b[43m,\u001b[49m\n\u001b[1;32m   1192\u001b[0m \u001b[43m            \u001b[49m\u001b[43mvalidate_features\u001b[49m\u001b[38;5;241;43m=\u001b[39;49m\u001b[43mvalidate_features\u001b[49m\u001b[43m,\u001b[49m\n\u001b[1;32m   1193\u001b[0m \u001b[43m        \u001b[49m\u001b[43m)\u001b[49m\n\u001b[1;32m   1194\u001b[0m         \u001b[38;5;28;01mif\u001b[39;00m _is_cupy_alike(predts):\n\u001b[1;32m   1195\u001b[0m             \u001b[38;5;28;01mimport\u001b[39;00m \u001b[38;5;21;01mcupy\u001b[39;00m  \u001b[38;5;66;03m# pylint: disable=import-error\u001b[39;00m\n",
            "File \u001b[0;32m~/.local/lib/python3.8/site-packages/xgboost/core.py:2510\u001b[0m, in \u001b[0;36mBooster.inplace_predict\u001b[0;34m(self, data, iteration_range, predict_type, missing, validate_features, base_margin, strict_shape)\u001b[0m\n\u001b[1;32m   2508\u001b[0m     data, fns, _ \u001b[38;5;241m=\u001b[39m _transform_pandas_df(data, enable_categorical)\n\u001b[1;32m   2509\u001b[0m     \u001b[38;5;28;01mif\u001b[39;00m validate_features:\n\u001b[0;32m-> 2510\u001b[0m         \u001b[38;5;28;43mself\u001b[39;49m\u001b[38;5;241;43m.\u001b[39;49m\u001b[43m_validate_features\u001b[49m\u001b[43m(\u001b[49m\u001b[43mfns\u001b[49m\u001b[43m)\u001b[49m\n\u001b[1;32m   2511\u001b[0m \u001b[38;5;28;01mif\u001b[39;00m _is_list(data) \u001b[38;5;129;01mor\u001b[39;00m _is_tuple(data):\n\u001b[1;32m   2512\u001b[0m     data \u001b[38;5;241m=\u001b[39m np\u001b[38;5;241m.\u001b[39marray(data)\n",
            "File \u001b[0;32m~/.local/lib/python3.8/site-packages/xgboost/core.py:3075\u001b[0m, in \u001b[0;36mBooster._validate_features\u001b[0;34m(self, feature_names)\u001b[0m\n\u001b[1;32m   3069\u001b[0m \u001b[38;5;28;01mif\u001b[39;00m my_missing:\n\u001b[1;32m   3070\u001b[0m     msg \u001b[38;5;241m+\u001b[39m\u001b[38;5;241m=\u001b[39m (\n\u001b[1;32m   3071\u001b[0m         \u001b[38;5;124m\"\u001b[39m\u001b[38;5;130;01m\\n\u001b[39;00m\u001b[38;5;124mtraining data did not have the following fields: \u001b[39m\u001b[38;5;124m\"\u001b[39m\n\u001b[1;32m   3072\u001b[0m         \u001b[38;5;241m+\u001b[39m \u001b[38;5;124m\"\u001b[39m\u001b[38;5;124m, \u001b[39m\u001b[38;5;124m\"\u001b[39m\u001b[38;5;241m.\u001b[39mjoin(\u001b[38;5;28mstr\u001b[39m(s) \u001b[38;5;28;01mfor\u001b[39;00m s \u001b[38;5;129;01min\u001b[39;00m my_missing)\n\u001b[1;32m   3073\u001b[0m     )\n\u001b[0;32m-> 3075\u001b[0m \u001b[38;5;28;01mraise\u001b[39;00m \u001b[38;5;167;01mValueError\u001b[39;00m(msg\u001b[38;5;241m.\u001b[39mformat(\u001b[38;5;28mself\u001b[39m\u001b[38;5;241m.\u001b[39mfeature_names, feature_names))\n",
            "\u001b[0;31mValueError\u001b[0m: feature_names mismatch: ['entropy', 'function_count', 'average_cc', 'class_count', 'BaseHTTPServer.HTTPServer', 'DocXMLRPCServer.DocXMLRPCServer', 'FTP.retrbinary', 'FTP.retrlines', 'FTP.storbinary', 'FTP.storlines', 'HTTPConnection.request', 'HTTPConnection.send', 'IMAP4.send', 'MySQLCursor.fetchall', 'MySQLCursor.fetchmany', 'MySQLCursor.fetchone', 'NNTP.post', 'POP3.retr', 'Packer.pack_array', 'Packer.pack_bytes', 'Packer.pack_double', 'Packer.pack_farray', 'Packer.pack_float', 'Packer.pack_fopaque', 'Packer.pack_fstring', 'Packer.pack_list', 'Packer.pack_string', 'SMTP.send_message, rcpt_options=)', 'SMTP.sendmail, rcpt_options=)', 'SSLSocket.read', 'SSLSocket.write', 'SimpleXMLRPCServer.SimpleXMLRPCServer', 'SocketServer.BaseServer', 'SocketServer.TCPServer', 'SocketServer.UDPServer', 'SocketServer.UnixDatagramServer', 'SocketServer.UnixStreamServer', 'Telnet.write', 'ZipFile.read', 'ZipFile.write', '__import__', '_dummy_thread', '_thread', '_winreg.ConnectRegistry', 'aifc', 'aifc.open', 'anydbm.open', 'asynchat', 'asynchat.async_chat', 'asyncio', 'asyncio.StreamReader.read', 'asyncio.StreamReader.readexactly', 'asyncio.StreamReader.readline', 'asyncio.StreamReader.readuntil', 'asyncio.StreamWriter.write', 'asyncio.StreamWriter.write_eof', 'asyncio.StreamWriter.writelines', 'asyncio.create_subprocess_exec', 'asyncio.create_subprocess_shell', 'asyncio.open_connection', 'asyncio.open_unix_connection', 'asyncio.start_server', 'asyncio.start_unix_server', 'asyncore', 'asyncore.dispatcher', 'asyncore.dispatcher.recv', 'asyncore.dispatcher.send', 'asyncore.dispatcher_with_send', 'atexit.register', 'base64.b16decode', 'base64.b32decode', 'base64.b64decode', 'base64.decode', 'base64.decodestring', 'base64.standard_b64decode', 'base64.urlsafe_b64decode', 'bsddb.btopen', 'bsddb.hashopen', 'bsddb.rnopen', 'bz2', 'bz2.BZ2File', 'cgi', 'cgitb', 'chunk', 'class csv.DictReader', 'code.InteractiveConsole', 'code.InteractiveInterpreter', 'code.compile_command', 'code.interact', 'codeop.CommandCompiler', 'codeop.Compile', 'codeop.compile_command', 'commands.getoutput', 'commands.getstatus', 'commands.getstatusoutput', 'compile', 'compileall.compile_dir', 'compileall.compile_file', 'compileall.compile_path', 'compile¶', 'concurrent', 'concurrent.futures.Executor', 'concurrent.futures.Future', 'concurrent.futures.ProcessPoolExecutor', 'concurrent.futures.ThreadPoolExecutor', 'configparser', 'cookielib.FileCookieJar', 'cookielib.LWPCookieJar', 'cookielib.MozillaCookieJar', 'copyreg', 'csv', 'csv.reader', 'ctypes', 'ctypes.CDLL', 'ctypes.OleDLL', 'ctypes.PyDLL', 'ctypes.WinDLL', 'curses', 'dbhash.open', 'dbm', 'dbm.open', 'debugging', 'delattr', 'dir', 'distutils', 'dl.open', 'dumbdbm.open', 'dummy_threading', 'email', 'ensurepip', 'eval', 'exec', 'execfile', 'file', 'filecmp', 'filecmp.cmp', 'filecmp.cmpfiles', 'filecmp.dircmp', 'fileinput', 'fileinput.FileInput', 'fileinput.input', 'findertools.copy', 'findertools.move', 'fnmatch', 'ftplib', 'ftplib.FTP', 'ftplib.FTP_TLS', 'gdbm.open', 'getattr', 'getpass', 'glob', 'gzip', 'gzip.GzipFile', 'gzip.open', 'hashlib', 'hmac', 'http', 'http.client.HTTPConnection', 'http.client.HTTPSConnection', 'http.cookiejar.FileCookieJar', 'http.cookiejar.LWPCookieJar', 'http.cookiejar.MozillaCookieJar', 'http.server.HTTPServer', 'http.server.ThreadingHTTPServer', 'httplib.HTTPConnection', 'httplib.HTTPSConnection', 'imaplib', 'imaplib.IMAP4', 'imaplib.IMAP4_SSL', 'imaplib.IMAP4_stream', 'imp.load_compiled', 'imp.load_dynamic', 'imp.load_module', 'importlib.import_module', 'input', 'io.BufferedIOBase.write', 'io.BufferedRWPair', 'io.BufferedRandom', 'io.BufferedWriter', 'io.BytesIO', 'io.FileIO', 'io.IOBase', 'io.IOBase.readline', 'io.IOBase.readlines', 'io.IOBase.writelines', 'io.RawIOBase', 'io.RawIOBase.write', 'io.StringIO', 'io.TextIOBase', 'io.TextIOBase.write', 'io.TextIOWrapper', 'io.open', 'ipaddress', 'ipaddress.IPv4Network', 'ipaddress.IPv6Network', 'json', 'linecache', 'linecache.getline', 'lzma', 'lzma.LZMAFile', 'lzma.open', 'macostools.copy', 'macostools.copytree', 'macostools.mkalias', 'macpath', 'mailbox', 'mailbox.Babyl', 'mailbox.MH', 'mailbox.MMDF', 'mailbox.Mailbox', 'mailbox.Maildir', 'mailbox.mbox', 'mailcap', 'marshal', 'marshal.dump', 'marshal.load', 'memoryview', 'mimetypes', 'mimetypes.MimeTypes.read', 'mimetypes.MimeTypes.read_mime_types', 'mimetypes.MimeTypes.read_windows_registry', 'mimetypes.MimeTypes.readfp', 'mmap', 'modulefinder.AddPackagePath', 'modulefinder.ReplacePackage', 'msilib', 'msvcrt', 'multiprocessing', 'multiprocessing.Manager', 'multiprocessing.Pool', 'multiprocessing.Process', 'multiprocessing.Process.run', 'multiprocessing.connection.Connection', 'multiprocessing.connection.Connection.recv', 'multiprocessing.connection.Connection.recv_bytes', 'multiprocessing.connection.Connection.recv_bytes_into', 'multiprocessing.connection.Connection.send', 'multiprocessing.connection.Connection.send_bytes', 'multiprocessing.managers.BaseManager', 'multiprocessing.managers.SyncManager', 'multiprocessing.pool.Pool', 'netrc', 'nntplib', 'nntplib.NNTP', 'open', 'os.SCHED', 'os._exit', 'os.abort', 'os.access', 'os.chdir', 'os.conf', 'os.ctermid', 'os.environ', 'os.environb', 'os.execl', 'os.execle', 'os.execlp', 'os.execlpe', 'os.execv', 'os.execve', 'os.execvp', 'os.execvpe', 'os.fchdir', 'os.fchown', 'os.fdopen', 'os.fork', 'os.forkpty', 'os.fspath', 'os.get_exec_path', 'os.getcwd', 'os.getegid', 'os.geteuid', 'os.getgid', 'os.getgrouplist', 'os.getlogin', 'os.getpgid', 'os.getpgrp', 'os.getpid', 'os.getppid', 'os.getresgid', 'os.getresuid', 'os.getuid', 'os.kill', 'os.killpg', 'os.link', 'os.mkdir', 'os.name', 'os.open', 'os.openpty', 'os.path', 'os.pipe', 'os.popen', 'os.popen2', 'os.popen3', 'os.popen4', 'os.pread', 'os.preadv', 'os.pwrite', 'os.pwritev', 'os.read', 'os.register_at_fork', 'os.remove', 'os.removedirs', 'os.rename', 'os.renames', 'os.replace', 'os.rmdir', 'os.sched', 'os.sendfile', 'os.setegid', 'os.seteuid', 'os.setgid', 'os.setuid', 'os.spawnl', 'os.spawnle', 'os.spawnlp', 'os.spawnlpe', 'os.spawnv', 'os.spawnve', 'os.spawnvp', 'os.spawnvpe', 'os.startfile', 'os.sysconf', 'os.system', 'os.unlink', 'os.wait', 'os.write', 'os.writev', 'ossaudiodev.open', 'parser.expr', 'parser.suite', 'pathlib', 'pathlib.Path.rename', 'pathlib.Path.replace', 'pathlib.Path.rmdir', 'pathlib.Path.unlink', 'pickle', 'pickle.dump', 'pickle.load', 'pickle.loads', 'pipes.Template', 'pkgutil.ImpImporter', 'pkgutil.ImpLoader', 'pkgutil.find_loader', 'pkgutil.get_importer', 'pkgutil.get_loader', 'platform', 'plistlib', 'plistlib.readPlist', 'plistlib.readPlistFromResource', 'plistlib.writePlist', 'plistlib.writePlistToResource', 'popen2.Popen3', 'popen2.Popen4', 'popen2.popen2', 'popen2.popen3', 'popen2.popen4', 'poplib', 'poplib.POP3', 'poplib.POP3_SSL', 'pty.fork', 'pty.openpty', 'pty.spawn', 'pwd.getpwall', 'pwd.getpwnam', 'pwd.getpwuid', 'py_compile.compile', 'py_compile.main', 'queue', 'quopri', 'raw_input', 'robotparser.RobotFileParser.read', 'runpy', 'runpy.run_module', 'runpy.run_path', 'sched', 'secrets', 'select', 'selectors', 'setattr', 'shelve', 'shelve.DbfilenameShelf', 'shelve.open', 'shutil', 'shutil.copy', 'shutil.copy2', 'shutil.copyfile', 'shutil.copyfileobj', 'shutil.copytree', 'shutil.make_archive', 'shutil.move', 'shutil.rmtree', 'signal', 'signal.alarm', 'signal.pause', 'signal.siginterrupt', 'signal.signal', 'site', 'smtpd', 'smtplib', 'smtplib.LMTP', 'smtplib.SMTP', 'smtplib.SMTP_SSL', 'socket', 'socket.create_connection', 'socket.getaddrinfo', 'socket.gethostbyname', 'socket.gethostname', 'socket.recv', 'socket.recv_into', 'socket.recvfrom', 'socket.recvfrom_into', 'socket.recvmsg', 'socket.recvmsg_into', 'socket.send', 'socket.sendall', 'socket.sendfile', 'socket.sendmsg', 'socket.sendmsg_afalg', 'socket.sendto', 'socket.socket', 'socket.socketpair', 'socketserver', 'socketserver.BaseServer', 'socketserver.ForkingTCPServer', 'socketserver.ForkingUDPServer', 'socketserver.TCPServer', 'socketserver.ThreadingTCPServer', 'socketserver.ThreadingUDPServer', 'socketserver.UDPServer', 'socketserver.UnixDatagramServer', 'socketserver.UnixStreamServer', 'spwd.getspall', 'spwd.getspnam', 'sqlite3', 'sqlite3.Connection.execute', 'sqlite3.Connection.executemany', 'sqlite3.Connection.executescript', 'sqlite3.connect', 'ssl', 'ssl.SSLSocket', 'ssl.SSLSocket.read', 'ssl.SSLSocket.send', 'ssl.SSLSocket.sendall', 'ssl.SSLSocket.sendfile', 'ssl.SSLSocket.write', 'stat', 'subprocess', 'subprocess security', 'subprocess.Popen', 'subprocess.call', 'subprocess.check_call', 'subprocess.check_output', 'subprocess.getoutput', 'subprocess.getstatusoutput', 'subprocess.run', 'sunau', 'sunau.open', 'sunau.openfp', 'sys', 'sys.exit', 'sys.exitfunc', 'sys.setprofile', 'sys.settrace', 'sysconfig', 'tarfile', 'tarfile.TarFile', 'tarfile.TarFileCompat', 'tarfile.open', 'telnetlib', 'telnetlib.Telnet', 'tempfile', 'tempfile.NamedTemporaryFile', 'tempfile.SpooledTemporaryFile', 'tempfile.TemporaryFile', 'tempfile.mkdtemp', 'tempfile.mkstemp', 'test', 'threading', 'threading.Thread', 'threading.Thread.run', 'time', 'time.set', 'time.sleep', 'tkinter', 'traceback', 'urllib', 'urllib.FancyURLopener', 'urllib.URLopener', 'urllib.request.FancyURLopener', 'urllib.request.URLopener', 'urllib.request.build_opener', 'urllib.request.urlopen', 'urllib.urlopen', 'urllib.urlretrieve', 'urllib2.FTPHandler.ftp_open', 'urllib2.FileHandler.file_open', 'urllib2.HTTPHandler.http_open', 'urllib2.HTTPSHandler.https_open', 'urllib2.OpenerDirector.open', 'urllib2.Request', 'urllib2.urlopen', 'uuid', 'venv', 'wave', 'wave.open', 'wave.openfp', 'webbrower.open', 'webbrower.open_new', 'webbrower.open_new_tab', 'webbrowser', 'win32com', 'winreg.ConnectRegistry', 'wsgiref', 'wsgiref.simple_server.WSGIServer', 'wsgiref.simple_server.make_server', 'xdrlib', 'xml', 'xmlrpc', 'xmlrpc.client.Binary.encode', 'xmlrpc.client.DateTime.encode', 'xmlrpc.client.ServerProxy', 'xmlrpc.server.DocXMLRPCServer', 'xmlrpc.server.SimpleXMLRPCServer', 'xmlrpclib.ServerProxy', 'zipapp', 'zipfile', 'zipfile.ZipFile', 'zipimport.zipimporter', 'zlib'] ['entropy', 'BaseHTTPServer.HTTPServer', 'DocXMLRPCServer.DocXMLRPCServer', 'FTP.retrbinary', 'FTP.retrlines', 'FTP.storbinary', 'FTP.storlines', 'HTTPConnection.request', 'HTTPConnection.send', 'IMAP4.send', 'MySQLCursor.fetchall', 'MySQLCursor.fetchmany', 'MySQLCursor.fetchone', 'NNTP.post', 'POP3.retr', 'Packer.pack_array', 'Packer.pack_bytes', 'Packer.pack_double', 'Packer.pack_farray', 'Packer.pack_float', 'Packer.pack_fopaque', 'Packer.pack_fstring', 'Packer.pack_list', 'Packer.pack_string', 'SMTP.send_message, rcpt_options=)', 'SMTP.sendmail, rcpt_options=)', 'SSLSocket.read', 'SSLSocket.write', 'SimpleXMLRPCServer.SimpleXMLRPCServer', 'SocketServer.BaseServer', 'SocketServer.TCPServer', 'SocketServer.UDPServer', 'SocketServer.UnixDatagramServer', 'SocketServer.UnixStreamServer', 'Telnet.write', 'ZipFile.read', 'ZipFile.write', '__import__', '_dummy_thread', '_thread', '_winreg.ConnectRegistry', 'aifc', 'aifc.open', 'anydbm.open', 'asynchat', 'asynchat.async_chat', 'asyncio', 'asyncio.StreamReader.read', 'asyncio.StreamReader.readexactly', 'asyncio.StreamReader.readline', 'asyncio.StreamReader.readuntil', 'asyncio.StreamWriter.write', 'asyncio.StreamWriter.write_eof', 'asyncio.StreamWriter.writelines', 'asyncio.create_subprocess_exec', 'asyncio.create_subprocess_shell', 'asyncio.open_connection', 'asyncio.open_unix_connection', 'asyncio.start_server', 'asyncio.start_unix_server', 'asyncore', 'asyncore.dispatcher', 'asyncore.dispatcher.recv', 'asyncore.dispatcher.send', 'asyncore.dispatcher_with_send', 'atexit.register', 'base64.b16decode', 'base64.b32decode', 'base64.b64decode', 'base64.decode', 'base64.decodestring', 'base64.standard_b64decode', 'base64.urlsafe_b64decode', 'bsddb.btopen', 'bsddb.hashopen', 'bsddb.rnopen', 'bz2', 'bz2.BZ2File', 'cgi', 'cgitb', 'chunk', 'class csv.DictReader', 'code.InteractiveConsole', 'code.InteractiveInterpreter', 'code.compile_command', 'code.interact', 'codeop.CommandCompiler', 'codeop.Compile', 'codeop.compile_command', 'commands.getoutput', 'commands.getstatus', 'commands.getstatusoutput', 'compile', 'compileall.compile_dir', 'compileall.compile_file', 'compileall.compile_path', 'compile¶', 'concurrent', 'concurrent.futures.Executor', 'concurrent.futures.Future', 'concurrent.futures.ProcessPoolExecutor', 'concurrent.futures.ThreadPoolExecutor', 'configparser', 'cookielib.FileCookieJar', 'cookielib.LWPCookieJar', 'cookielib.MozillaCookieJar', 'copyreg', 'csv', 'csv.reader', 'ctypes', 'ctypes.CDLL', 'ctypes.OleDLL', 'ctypes.PyDLL', 'ctypes.WinDLL', 'curses', 'dbhash.open', 'dbm', 'dbm.open', 'debugging', 'delattr', 'dir', 'distutils', 'dl.open', 'dumbdbm.open', 'dummy_threading', 'email', 'ensurepip', 'eval', 'exec', 'execfile', 'file', 'filecmp', 'filecmp.cmp', 'filecmp.cmpfiles', 'filecmp.dircmp', 'fileinput', 'fileinput.FileInput', 'fileinput.input', 'findertools.copy', 'findertools.move', 'fnmatch', 'ftplib', 'ftplib.FTP', 'ftplib.FTP_TLS', 'gdbm.open', 'getattr', 'getpass', 'glob', 'gzip', 'gzip.GzipFile', 'gzip.open', 'hashlib', 'hmac', 'http', 'http.client.HTTPConnection', 'http.client.HTTPSConnection', 'http.cookiejar.FileCookieJar', 'http.cookiejar.LWPCookieJar', 'http.cookiejar.MozillaCookieJar', 'http.server.HTTPServer', 'http.server.ThreadingHTTPServer', 'httplib.HTTPConnection', 'httplib.HTTPSConnection', 'imaplib', 'imaplib.IMAP4', 'imaplib.IMAP4_SSL', 'imaplib.IMAP4_stream', 'imp.load_compiled', 'imp.load_dynamic', 'imp.load_module', 'importlib.import_module', 'input', 'io.BufferedIOBase.write', 'io.BufferedRWPair', 'io.BufferedRandom', 'io.BufferedWriter', 'io.BytesIO', 'io.FileIO', 'io.IOBase', 'io.IOBase.readline', 'io.IOBase.readlines', 'io.IOBase.writelines', 'io.RawIOBase', 'io.RawIOBase.write', 'io.StringIO', 'io.TextIOBase', 'io.TextIOBase.write', 'io.TextIOWrapper', 'io.open', 'ipaddress', 'ipaddress.IPv4Network', 'ipaddress.IPv6Network', 'json', 'linecache', 'linecache.getline', 'lzma', 'lzma.LZMAFile', 'lzma.open', 'macostools.copy', 'macostools.copytree', 'macostools.mkalias', 'macpath', 'mailbox', 'mailbox.Babyl', 'mailbox.MH', 'mailbox.MMDF', 'mailbox.Mailbox', 'mailbox.Maildir', 'mailbox.mbox', 'mailcap', 'marshal', 'marshal.dump', 'marshal.load', 'memoryview', 'mimetypes', 'mimetypes.MimeTypes.read', 'mimetypes.MimeTypes.read_mime_types', 'mimetypes.MimeTypes.read_windows_registry', 'mimetypes.MimeTypes.readfp', 'mmap', 'modulefinder.AddPackagePath', 'modulefinder.ReplacePackage', 'msilib', 'msvcrt', 'multiprocessing', 'multiprocessing.Manager', 'multiprocessing.Pool', 'multiprocessing.Process', 'multiprocessing.Process.run', 'multiprocessing.connection.Connection', 'multiprocessing.connection.Connection.recv', 'multiprocessing.connection.Connection.recv_bytes', 'multiprocessing.connection.Connection.recv_bytes_into', 'multiprocessing.connection.Connection.send', 'multiprocessing.connection.Connection.send_bytes', 'multiprocessing.managers.BaseManager', 'multiprocessing.managers.SyncManager', 'multiprocessing.pool.Pool', 'netrc', 'nntplib', 'nntplib.NNTP', 'open', 'os.SCHED', 'os._exit', 'os.abort', 'os.access', 'os.chdir', 'os.conf', 'os.ctermid', 'os.environ', 'os.environb', 'os.execl', 'os.execle', 'os.execlp', 'os.execlpe', 'os.execv', 'os.execve', 'os.execvp', 'os.execvpe', 'os.fchdir', 'os.fchown', 'os.fdopen', 'os.fork', 'os.forkpty', 'os.fspath', 'os.get_exec_path', 'os.getcwd', 'os.getegid', 'os.geteuid', 'os.getgid', 'os.getgrouplist', 'os.getlogin', 'os.getpgid', 'os.getpgrp', 'os.getpid', 'os.getppid', 'os.getresgid', 'os.getresuid', 'os.getuid', 'os.kill', 'os.killpg', 'os.link', 'os.mkdir', 'os.name', 'os.open', 'os.openpty', 'os.path', 'os.pipe', 'os.popen', 'os.popen2', 'os.popen3', 'os.popen4', 'os.pread', 'os.preadv', 'os.pwrite', 'os.pwritev', 'os.read', 'os.register_at_fork', 'os.remove', 'os.removedirs', 'os.rename', 'os.renames', 'os.replace', 'os.rmdir', 'os.sched', 'os.sendfile', 'os.setegid', 'os.seteuid', 'os.setgid', 'os.setuid', 'os.spawnl', 'os.spawnle', 'os.spawnlp', 'os.spawnlpe', 'os.spawnv', 'os.spawnve', 'os.spawnvp', 'os.spawnvpe', 'os.startfile', 'os.sysconf', 'os.system', 'os.unlink', 'os.wait', 'os.write', 'os.writev', 'ossaudiodev.open', 'parser.expr', 'parser.suite', 'pathlib', 'pathlib.Path.rename', 'pathlib.Path.replace', 'pathlib.Path.rmdir', 'pathlib.Path.unlink', 'pickle', 'pickle.dump', 'pickle.load', 'pickle.loads', 'pipes.Template', 'pkgutil.ImpImporter', 'pkgutil.ImpLoader', 'pkgutil.find_loader', 'pkgutil.get_importer', 'pkgutil.get_loader', 'platform', 'plistlib', 'plistlib.readPlist', 'plistlib.readPlistFromResource', 'plistlib.writePlist', 'plistlib.writePlistToResource', 'popen2.Popen3', 'popen2.Popen4', 'popen2.popen2', 'popen2.popen3', 'popen2.popen4', 'poplib', 'poplib.POP3', 'poplib.POP3_SSL', 'pty.fork', 'pty.openpty', 'pty.spawn', 'pwd.getpwall', 'pwd.getpwnam', 'pwd.getpwuid', 'py_compile.compile', 'py_compile.main', 'queue', 'quopri', 'raw_input', 'robotparser.RobotFileParser.read', 'runpy', 'runpy.run_module', 'runpy.run_path', 'sched', 'secrets', 'select', 'selectors', 'setattr', 'shelve', 'shelve.DbfilenameShelf', 'shelve.open', 'shutil', 'shutil.copy', 'shutil.copy2', 'shutil.copyfile', 'shutil.copyfileobj', 'shutil.copytree', 'shutil.make_archive', 'shutil.move', 'shutil.rmtree', 'signal', 'signal.alarm', 'signal.pause', 'signal.siginterrupt', 'signal.signal', 'site', 'smtpd', 'smtplib', 'smtplib.LMTP', 'smtplib.SMTP', 'smtplib.SMTP_SSL', 'socket', 'socket.create_connection', 'socket.getaddrinfo', 'socket.gethostbyname', 'socket.gethostname', 'socket.recv', 'socket.recv_into', 'socket.recvfrom', 'socket.recvfrom_into', 'socket.recvmsg', 'socket.recvmsg_into', 'socket.send', 'socket.sendall', 'socket.sendfile', 'socket.sendmsg', 'socket.sendmsg_afalg', 'socket.sendto', 'socket.socket', 'socket.socketpair', 'socketserver', 'socketserver.BaseServer', 'socketserver.ForkingTCPServer', 'socketserver.ForkingUDPServer', 'socketserver.TCPServer', 'socketserver.ThreadingTCPServer', 'socketserver.ThreadingUDPServer', 'socketserver.UDPServer', 'socketserver.UnixDatagramServer', 'socketserver.UnixStreamServer', 'spwd.getspall', 'spwd.getspnam', 'sqlite3', 'sqlite3.Connection.execute', 'sqlite3.Connection.executemany', 'sqlite3.Connection.executescript', 'sqlite3.connect', 'ssl', 'ssl.SSLSocket', 'ssl.SSLSocket.read', 'ssl.SSLSocket.send', 'ssl.SSLSocket.sendall', 'ssl.SSLSocket.sendfile', 'ssl.SSLSocket.write', 'stat', 'subprocess', 'subprocess security', 'subprocess.Popen', 'subprocess.call', 'subprocess.check_call', 'subprocess.check_output', 'subprocess.getoutput', 'subprocess.getstatusoutput', 'subprocess.run', 'sunau', 'sunau.open', 'sunau.openfp', 'sys', 'sys.exit', 'sys.exitfunc', 'sys.setprofile', 'sys.settrace', 'sysconfig', 'tarfile', 'tarfile.TarFile', 'tarfile.TarFileCompat', 'tarfile.open', 'telnetlib', 'telnetlib.Telnet', 'tempfile', 'tempfile.NamedTemporaryFile', 'tempfile.SpooledTemporaryFile', 'tempfile.TemporaryFile', 'tempfile.mkdtemp', 'tempfile.mkstemp', 'test', 'threading', 'threading.Thread', 'threading.Thread.run', 'time', 'time.set', 'time.sleep', 'tkinter', 'traceback', 'urllib', 'urllib.FancyURLopener', 'urllib.URLopener', 'urllib.request.FancyURLopener', 'urllib.request.URLopener', 'urllib.request.build_opener', 'urllib.request.urlopen', 'urllib.urlopen', 'urllib.urlretrieve', 'urllib2.FTPHandler.ftp_open', 'urllib2.FileHandler.file_open', 'urllib2.HTTPHandler.http_open', 'urllib2.HTTPSHandler.https_open', 'urllib2.OpenerDirector.open', 'urllib2.Request', 'urllib2.urlopen', 'uuid', 'venv', 'wave', 'wave.open', 'wave.openfp', 'webbrower.open', 'webbrower.open_new', 'webbrower.open_new_tab', 'webbrowser', 'win32com', 'winreg.ConnectRegistry', 'wsgiref', 'wsgiref.simple_server.WSGIServer', 'wsgiref.simple_server.make_server', 'xdrlib', 'xml', 'xmlrpc', 'xmlrpc.client.Binary.encode', 'xmlrpc.client.DateTime.encode', 'xmlrpc.client.ServerProxy', 'xmlrpc.server.DocXMLRPCServer', 'xmlrpc.server.SimpleXMLRPCServer', 'xmlrpclib.ServerProxy', 'zipapp', 'zipfile', 'zipfile.ZipFile', 'zipimport.zipimporter', 'zlib']\nexpected function_count, class_count, average_cc in input data"
          ]
        }
      ],
      "source": [
        "# 검증 데이터에 대한 악성 확률 예측\n",
        "y_pred_prob = model.predict_proba(validation_features)[:, 1]\n",
        "# 결과 출력\n",
        "for i, prob in enumerate(y_pred_prob):\n",
        "    print(f\"Validation Sample {i}: Malignant Probability = {prob:.4f}\")\n"
      ]
    },
    {
      "cell_type": "code",
      "execution_count": null,
      "metadata": {
        "id": "YSx7QGpGqvAf"
      },
      "outputs": [],
      "source": [
        "import pandas as pd\n",
        "\n",
        "# 악성 확률이 0.9 이상인 파일 정보를 담을 데이터프레임 생성\n",
        "# detection_df = pd.DataFrame(columns=['file name', 'Malignant Probability', 'URL', 'package'])\n",
        "detection_df = pd.DataFrame(columns=['file name', 'Malignant Probability'])\n",
        "\n",
        "# for filename, prob, url, package in zip(validation_FileName, y_pred_prob, validation_data['URL'], validation_data['package']):\n",
        "for filename, prob in zip(validation_FileName, y_pred_prob):\n",
        "    if prob >= 0.95:\n",
        "        # 악성 확률이 0.95 이상인 경우에만 데이터프레임에 추가\n",
        "        detection_df = pd.concat([detection_df, pd.DataFrame({'file name': [filename], 'Malignant Probability': [prob]})], ignore_index=True)\n",
        "\n",
        "detection_df.to_csv('./validation_result/result.csv', index=False)\n"
      ]
    },
    {
      "cell_type": "code",
      "execution_count": null,
      "metadata": {
        "id": "GzGF0UOtrUou"
      },
      "outputs": [],
      "source": [
        "detection_df = pd.read_csv('./validation_result/result.csv')\n",
        "# print(detection_df)"
      ]
    }
  ],
  "metadata": {
    "colab": {
      "provenance": []
    },
    "kernelspec": {
      "display_name": "Python 3",
      "name": "python3"
    },
    "language_info": {
      "codemirror_mode": {
        "name": "ipython",
        "version": 3
      },
      "file_extension": ".py",
      "mimetype": "text/x-python",
      "name": "python",
      "nbconvert_exporter": "python",
      "pygments_lexer": "ipython3",
      "version": "3.8.10"
    }
  },
  "nbformat": 4,
  "nbformat_minor": 0
}
